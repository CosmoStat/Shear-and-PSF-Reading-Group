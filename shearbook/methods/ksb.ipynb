{
 "cells": [
  {
   "cell_type": "markdown",
   "metadata": {},
   "source": [
    "# KSB"
   ]
  },
  {
   "cell_type": "markdown",
   "metadata": {},
   "source": [
    "In this section, we introduce the Kaiser-Squire-Broadhurst method (KSB) to measure galaxies shape using the image of the galaxy surface brightness.\n",
    "\n",
    "## Theory\n",
    "\n",
    "KSB estimates the reduced shear $g$ using the polarisation $\\chi$. The exact relation between these quantities is :\n",
    "\n",
    "$$\n",
    "\\chi^s = \\frac{\\chi - 2 g +g^2 \\chi^\\ast}{1 + | g |^2 - \\Re \\left( g \\chi^\\ast \\right) } \\quad,\n",
    "$$(g_chi)\n",
    "where $\\chi^s$ is the intrinsic (unlensed) polarisation.\n",
    "\n",
    "Assuming that the average of $\\chi^s$ vanishe, i.e. $\\left< \\chi^s \\right>=0$, and in a certain region $g$ is constant, $g$ is approximated by rotating the coordinate frame such that only one of its component does not vanish:\n",
    "\n",
    "$$\n",
    "g \\approx \\frac{ \\left< \\chi \\right> }{ 2 \\left(1 - \\sigma^2_\\chi\\right) } \n",
    "          + \\frac{\\left< \\chi \\right>^3}{8} \\frac{1 - 5\\sigma^2_\\chi}{ \\left(1 - \\sigma^2_\\chi\\right)^4} \n",
    "          + \\mathcal{O} \\left( \\left< \\chi \\right>^5 \\right) \\quad,\n",
    "$$\n",
    "\n",
    "with $\\sigma^2_\\chi$ being the standard deviation of $\\chi^s$ distribution.\n",
    "\n",
    "\n",
    "```{note}\n",
    "The polarisation $\\chi$ is used for shear measurement instead of the ellipticity $\\epsilon$ in Weak Lensing because in practice its estimator is less noisy. \n",
    "```\n",
    "\n",
    "```{warning}\n",
    "The approximation of $g$ is done by applying a Taylor Expansion of $\\chi$ around 0, i.e. for small value of $\\chi$, on the average of {eq}`g_chi`.\n",
    "```\n",
    "\n",
    "## Standard KSB\n",
    "\n",
    "The core idea of KSB is to estimate the polarisation on raw data, i.e. images blurred by a known PSF and contaminated with additive Gaussian noise, using a weighting window on each image then apply corrections directly in the polarisation space. "
   ]
  },
  {
   "cell_type": "code",
   "execution_count": null,
   "metadata": {},
   "outputs": [],
   "source": []
  }
 ],
 "metadata": {
  "kernelspec": {
   "display_name": "Python 3",
   "language": "python",
   "name": "python3"
  },
  "language_info": {
   "codemirror_mode": {
    "name": "ipython",
    "version": 3
   },
   "file_extension": ".py",
   "mimetype": "text/x-python",
   "name": "python",
   "nbconvert_exporter": "python",
   "pygments_lexer": "ipython3",
   "version": "3.8.6"
  }
 },
 "nbformat": 4,
 "nbformat_minor": 4
}
