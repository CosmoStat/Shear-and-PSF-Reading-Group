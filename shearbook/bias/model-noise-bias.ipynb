{
 "cells": [
  {
   "cell_type": "markdown",
   "metadata": {},
   "source": [
    "(sec:model-noise-interact)=\n",
    "# Model and Noise Bias Interaction\n",
    "\n",
    "In this section we will look into the interaction between model bias and noise bias."
   ]
  },
  {
   "cell_type": "markdown",
   "metadata": {},
   "source": [
    "## Definition\n",
    "\n",
    "Images for which an impefect model is used to fit the galaxy shape and that contain a significant amount of noise can  be impacted by an additional bias effect caused by the interaction between [model bias](sec:model-bias) and [noise bias](sec:noise-bias)."
   ]
  },
  {
   "cell_type": "markdown",
   "metadata": {},
   "source": [
    "## Measuring the Interaction Between Model and Noise Biases\n",
    "\n",
    "{cite}`2014MNRAS.441.2528K` attempted to isolate this interaction with the following procedure:\n",
    "\n",
    "1. Take a galaxy image, add noise to it and fit a model to estimate the ellipticity. The resulting estimate will include the effects of model bias, noise bias and their interaction.\n",
    "2. Find the best fitting model to a noiseless galaxy image, which accounts for model bias alone, add noise to this model and fit the same model to it, which accounts for model bias + noise bias.\n",
    "3. The difference between these two measurements provides the isolated interaction effect.\n",
    "\n",
    "While tests with a toy model indicated that the level this effect could be up few perfect, tests on more realistic COSMOS images showed that this term is very small and often consistent with zero."
   ]
  }
 ],
 "metadata": {
  "kernelspec": {
   "display_name": "Python 3",
   "language": "python",
   "name": "python3"
  },
  "language_info": {
   "codemirror_mode": {
    "name": "ipython",
    "version": 3
   },
   "file_extension": ".py",
   "mimetype": "text/x-python",
   "name": "python",
   "nbconvert_exporter": "python",
   "pygments_lexer": "ipython3",
   "version": "3.8.5"
  }
 },
 "nbformat": 4,
 "nbformat_minor": 4
}
