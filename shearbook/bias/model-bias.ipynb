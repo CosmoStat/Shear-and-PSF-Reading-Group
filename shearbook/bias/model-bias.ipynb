{
 "cells": [
  {
   "cell_type": "markdown",
   "metadata": {},
   "source": [
    "(sec:model-bias)=\n",
    "# Model Bias\n",
    "\n",
    "In this section we will look into the concept of model bias."
   ]
  },
  {
   "cell_type": "markdown",
   "metadata": {},
   "source": [
    "## Definition\n",
    "\n",
    "Model bias is a source of bias in shape estimation for [model fitting methods](sec:model-fitting). Model bias arises when the true shape of the galaxy in question is not sufficiently well represneted by the fitted model. In other words, real galaxy morphologies are often more complicated than the models used to fit them, which leads to a bias in the shapes recovered. \n",
    "\n",
    "```{note}\n",
    "Model bias is also refferred to as *underfitting bias*.\n",
    "```"
   ]
  },
  {
   "cell_type": "markdown",
   "metadata": {},
   "source": [
    "## Measuring Model Bias\n",
    "\n",
    "To isolate the effects of model bias one needs to know the true underlying model of a galaxy image and then to attempt to fit various differnt models to this image. \n",
    "\n",
    "````{admonition} Example\n",
    ":class: tip\n",
    "{cite}`2014MNRAS.441.2528K` modelled a \"true\" galaxy as  a single Sérsic profile with a given index $n$ then fit profiles with various different Sérsic indices to demonstrate the impact on the ellipticity values recovered.\n",
    "\n",
    "```{figure} ./images/kacprazak_bias.jpg\n",
    "---\n",
    "height: 400px\n",
    "name: model-bias\n",
    "---\n",
    "Galaxy ellipticity estimated when a wrong Sérsic index $S_j$ is used. True\n",
    "ellipticity was $e_{true}^1 = 0.2$. True Sérsic index was 1. Additionally, a star marks the true Sérsic index, to guide the eye. Magenta dash-dotted line with cross dot markers shows the model bias; ellipticity estimated by a fit with Sérsic $S_j$ in the absence of noise. Blue and red lines with $+$ and $×$ markers, respectively, show the mean ellipticity measured from galaxy image with added noise, when: (1) galaxy image has the true Sérsic index, (2) galaxy image is the best fit with Sérsic index $S_j$ .\n",
    "```\n",
    "\n",
    "````"
   ]
  },
  {
   "cell_type": "markdown",
   "metadata": {},
   "source": [
    "## Impact of Model Bias\n",
    "\n",
    "{cite}`2014MNRAS.441.2528K` claim that, while model bias can be quite variable, it averages to a small value."
   ]
  },
  {
   "cell_type": "markdown",
   "metadata": {},
   "source": [
    "## Correcting for Model Bias"
   ]
  },
  {
   "cell_type": "code",
   "execution_count": null,
   "metadata": {},
   "outputs": [],
   "source": []
  }
 ],
 "metadata": {
  "kernelspec": {
   "display_name": "Python 3",
   "language": "python",
   "name": "python3"
  },
  "language_info": {
   "codemirror_mode": {
    "name": "ipython",
    "version": 3
   },
   "file_extension": ".py",
   "mimetype": "text/x-python",
   "name": "python",
   "nbconvert_exporter": "python",
   "pygments_lexer": "ipython3",
   "version": "3.8.5"
  }
 },
 "nbformat": 4,
 "nbformat_minor": 4
}
