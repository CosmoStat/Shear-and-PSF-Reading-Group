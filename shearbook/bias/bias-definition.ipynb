{
 "cells": [
  {
   "cell_type": "markdown",
   "metadata": {},
   "source": [
    " (sec:bias-definition)=\n",
    "# Shear bias definition\n",
    "\n",
    "In most cases, shear bias can be decomposed in a multiplicative and an additive part.\n",
    "\n",
    "## Population shear bias\n",
    "\n",
    "First, we define the shear bias for a population of galaxies. Let us recall the equation that,\n",
    "in the weak-lensing regime, relates observed and intrincic ellipticity to reduced shear,\n",
    "\n",
    "$$\\varepsilon^{\\textrm{obs}}_\\alpha = \\varepsilon^{\\textrm{I}}_\\alpha + g_\\alpha,$$\n",
    "\n",
    "for components $\\alpha = 1, 2$. If the mean intrinsic ellipticity is zero, $\\langle \\varepsilon^{\\textrm{I}}_\\alpha \\rangle = 0$, the observed ellipticity is an unbiased estimator of the shear, $\\langle \\varepsilon^{\\textrm{obs}}_\\alpha \\rangle = g_\\alpha$ in this basic case.\n",
    "\n",
    "Next, we introduce the ensemble-average additive bias $c_\\alpha$, and multiplicative bias $m_\\alpha$, and write\n",
    "\n",
    "$$\n",
    "\\langle \\varepsilon^{\\textrm{obs}}_\\alpha \\rangle \\equiv g^{\\textrm{obs}} = c_\\alpha + (1 + m_\\alpha) g_\\alpha.\n",
    "$$ (shear-estim-biased)\n",
    "\n",
    "A common calibration method is to estimate the population biases $c_\\alpha$, $m_\\alpha$, by simulating a large number of galaxy images with different properties and shear. These measured values are then applied to the observed galaxy ellipticities. The quantity $(\\varepsilon^{\\textrm{obs}}_\\alpha - c_\\alpha) / (1 + m_\\alpha)$ is then an unbiased estimator of the reduced shear.\n",
    "\n",
    "## Individual galaxy shear bias\n",
    "\n",
    "We now define the shear bias for an individual galaxy, and show that the ensemble average of this individual bias\n",
    "can be identified with the population shear bias defined above.\n",
    "\n",
    "The multiplicative bias in  {eq}`shear-estim-biased` can be interpreted as derivative, or response, of the average observed ellipticity with respect to the shear. Instead of using the average ellipticity however, we instead compute this derivative of the ellipticity of an individual galaxy. In addition, we generalise this derivative and \n",
    "account for the two-component nature of ellipticity. This defines the response matrix $R$ ({cite}`2017arXiv170202600H`, {cite}`SH17`) by\n",
    "\n",
    "$$\n",
    "R_{\\alpha\\beta} = \\frac{\\partial  \\varepsilon^{\\textrm{obs}}_\\alpha}{\\partial g_\\beta} .\n",
    "$$ (R)\n",
    "\n",
    "The additive shear bias for an individual galaxy can be defined as well,\n",
    "\n",
    "$$a_\\alpha = \\varepsilon^{\\textrm{obs}}_\\alpha - R_{\\alpha\\alpha} g_\\alpha - \\varepsilon^{\\textrm{I}}_\\alpha .$$\n",
    "\n",
    "This quantity can be computed in the case of image simulations where the intrinsic ellipticity $varepsilon^{\\textrm{I}}$ is known.\n",
    "\n",
    "By applying the ensemble average to {eq}`R` and comparing to {eq}`shear-estim-biased`, we find the equalities\n",
    "$\\langle R_{\\alpha\\alpha} \\rangle = m_\\alpha$, and $\\langle a_\\alpha \\rangle = c_\\alpha$.\n",
    "\n",
    "With calibration schemes where individual shear bias are measured, for example using metacalibration ({cite}`2017arXiv170202600H`), or deep learning ({cite}`pujol_shear_bias_20`), one applies the ensemble-averaged response matrix and additive shear vector o the observed galaxy ellipticities as\n",
    "$\\langle R \\rangle^{-1} \\left( \\vec \\varepsilon^{\\textrm{obs}} - \\langle \\vec a \\rangle \\right)$."
   ]
  }
 ],
 "metadata": {
  "kernelspec": {
   "display_name": "Python 3",
   "language": "python",
   "name": "python3"
  },
  "language_info": {
   "codemirror_mode": {
    "name": "ipython",
    "version": 3
   },
   "file_extension": ".py",
   "mimetype": "text/x-python",
   "name": "python",
   "nbconvert_exporter": "python",
   "pygments_lexer": "ipython3",
   "version": "3.9.2"
  }
 },
 "nbformat": 4,
 "nbformat_minor": 4
}
