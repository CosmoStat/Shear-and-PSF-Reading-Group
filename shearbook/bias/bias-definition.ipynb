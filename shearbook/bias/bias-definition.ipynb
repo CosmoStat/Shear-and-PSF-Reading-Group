{
 "cells": [
  {
   "cell_type": "markdown",
   "metadata": {},
   "source": [
    " (sec:bias-definition)=\n",
    "# Shear bias definition\n",
    "\n",
    "In most cases, shear bias can be decomposed in a multiplicative and an additive part.\n",
    "\n",
    "## Population shear bias\n",
    "\n",
    "First, we define the shear bias for a population of galaxies. First, let us recall the equation that,\n",
    "in the weak-lensing regime, relates observed and intrincic ellipticity to reduced shear,\n",
    "\n",
    "$$\\varepsilon^{\\textrm{obs}}_\\alpha = \\varepsilon^{\\textrm{I}}_\\alpha + g\\alpha,$$\n",
    "\n",
    "for components $\\alpha = 1, 2$. If the mean intrinsic ellipticity is zero, $\\langle \\varepsilon^{\\textrm{I}}_\\alpha \\rangle = 0$, the observed ellipticity is an unbiased estimator of the shear, $\\langle \\varepsilon^{\\textrm{obs}}_\\alpha \\rangle = g_\\alpha$ in this basic case.\n",
    "\n",
    "Next, we now introduce the ensemble-average additive bias $c_\\alpha$, and multiplicative bias $m_\\alpha$, and write\n",
    "\n",
    "$$\n",
    "\\langle \\varepsilon^{\\textrm{obs}}_\\alpha \\rangle \\equiv g^{\\textrm{obs}} = c_\\alpha + (1 + m_\\alpha) g_\\alpha.\n",
    "$$ (shear-estim-biased)\n",
    "\n",
    "A common calibration method is to estimate the population biases $c_\\alpha$, $m_\\alpha$, by simulating a large number of galaxy images with different properties and shear. These measured values are then applied to the observed galaxy ellipticities. The quantity $(\\varepsilon^{\\textrm{obs}}_\\alpha - c_\\alpha) / (1 + m_\\alpha)$ is then an unbiased estimator of the reduced shear.\n",
    "\n",
    "## Individual galaxy shear bias\n",
    "\n",
    "We see that the multiplicative bias in  {eq}`shear-estim-biased` can be interpreted as derivative, or response, of the average observed ellipticity with respect to the shear. Accounting for the two-component nature of ellipticity, and written for an individual galaxy, we define the response matrix $R$ ({cite}`2017arXiv170202600H`, {cite}`SH17`) by\n",
    "\n",
    "$$R_{\\alpha\\beta} = \\frac{\\partial  \\varepsilon^{\\textrm{obs}}_\\alpha}{\\partial g_\\beta} .$$\n",
    "\n",
    "The additive shear bias for an individual galaxy can be defined as well, in the case of simulations where the intrinsic ellipticity is known,\n",
    "\n",
    "$$a_\\alpha = \\varepsilon^{\\textrm{obs}}_\\alpha - R_{\\alpha\\alpha} g_\\alpha - \\varepsilon^{\\textrm{I}}_\\alpha .$$\n",
    "\n",
    "\n",
    "\n",
    "In the case of individually measured shear bias, one can set up a calibration scheme by building the population shear bias quantities $\\langle R \\rangle$ and $\\langle \\vec a \\rangle$. These are then applied to the observed galaxy ellipticities as\n",
    "$\\langle R \\rangle^{-1} \\left( \\vec \\varepsilon^{\\textrm{obs}} - \\langle \\vec a \\rangle \\right)$. "
   ]
  }
 ],
 "metadata": {
  "kernelspec": {
   "display_name": "Python 3",
   "language": "python",
   "name": "python3"
  },
  "language_info": {
   "codemirror_mode": {
    "name": "ipython",
    "version": 3
   },
   "file_extension": ".py",
   "mimetype": "text/x-python",
   "name": "python",
   "nbconvert_exporter": "python",
   "pygments_lexer": "ipython3",
   "version": "3.9.0"
  }
 },
 "nbformat": 4,
 "nbformat_minor": 4
}
