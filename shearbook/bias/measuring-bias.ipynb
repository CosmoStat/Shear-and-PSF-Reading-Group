{
 "cells": [
  {
   "cell_type": "markdown",
   "metadata": {},
   "source": [
    "```{code-block}\n",
    ":class: thebe, thebe-init\n",
    "# Automatic import for live code\n",
    "import numpy as np\n",
    "from shrbk.plot import *\n",
    "```"
   ]
  },
  {
   "cell_type": "markdown",
   "metadata": {},
   "source": [
    " (sec:measuring-bias)=\n",
    "# Measuring Bias\n",
    "\n",
    "In this section we will discuss several methods to measure shear bias.\n",
    "\n",
    "\n",
    "## Shear bias from individual galaxies\n",
    "\n",
    "{cite}`PKSB17` present a shape-noise-free shear bias estimator from individual simulated galaxies. The principle is similar to the metacalibration technique: A small shear is applied to a galaxy image, and the response matrix of the measured ellipticity to the shear is determined by finite differences.\n",
    "\n",
    "In general, the shear estimate for a single galaxy is dominated by shape noise. To beat down this noise, traditional methods use a very large number of galaxies. Some additional improvement can be gained by using rotated versions of the same galaxy, such that the sum of the intrinsic ellipticities is zero. The resulting shear estimate has a reduced variance.\n",
    "\n",
    "However, this does not account for the variance from the measured ellipticity, which does not only depend on the intrinsic one, but on the PSF, pixel noise, etc. In addition, all versions of the rotated galaxy need to be detected and have an measured shape, and therefore, selection biases are difficult to quantify with this method.\n",
    "\n",
    "To reduce shape noise (to virtually zero), {cite}`PKSB17` uses the same noise realisation is used for each sheared, and the unsheared image. The resulting estimate of the response per galaxy is highly precise. It is still not very accurate, since the measured value depends on the noise realisation. To increase the accuracy, a large number of simulated galaxies with different noise realisations is required. These galaxies are however anyway simulated to cover the large parameter space of galaxy properties.\n",
    "\n",
    "## Example\n",
    "Here we compute the individual shear bias from image simulations. This method is implemented in the library `shear_bias`."
   ]
  },
  {
   "cell_type": "code",
   "execution_count": null,
   "metadata": {},
   "outputs": [],
   "source": [
    "# Load the libraries\n",
    "import shear_bias as sb\n",
    "import galsim\n",
    "import matplotlib.pylab as plt\n",
    "import numpy as np\n",
    "\n",
    "%matplotlib inline"
   ]
  },
  {
   "cell_type": "markdown",
   "metadata": {},
   "source": [
    "### Set up"
   ]
  },
  {
   "cell_type": "markdown",
   "metadata": {},
   "source": [
    "#### Shear values"
   ]
  },
  {
   "cell_type": "markdown",
   "metadata": {},
   "source": [
    "First, set the value of the small shear $\\Delta g$ to add to the galaxy images."
   ]
  },
  {
   "cell_type": "code",
   "execution_count": null,
   "metadata": {},
   "outputs": [],
   "source": [
    "dg = 0.02"
   ]
  },
  {
   "cell_type": "markdown",
   "metadata": {},
   "source": [
    "Define the five steps, one in each positive and negative direction along the two coordinate axis, plus the original unchanged image (0, 0)."
   ]
  },
  {
   "cell_type": "code",
   "execution_count": null,
   "metadata": {},
   "outputs": [],
   "source": [
    "g_steps = [(-1, 0), (0, -1), (1, 0), (0, 1), (0, 0)]"
   ]
  },
  {
   "cell_type": "markdown",
   "metadata": {},
   "source": [
    "Create dictionary of shear values with step tuples as keys."
   ]
  },
  {
   "cell_type": "code",
   "execution_count": null,
   "metadata": {},
   "outputs": [],
   "source": [
    "g_values = {}\n",
    "for step in g_steps:\n",
    "    g_values[step] = (step[0] * dg, step[1] * dg)"
   ]
  },
  {
   "cell_type": "markdown",
   "metadata": {},
   "source": [
    "#### Number of galaxy images"
   ]
  },
  {
   "cell_type": "code",
   "execution_count": null,
   "metadata": {},
   "outputs": [],
   "source": [
    "n_gal = 10"
   ]
  },
  {
   "cell_type": "markdown",
   "metadata": {},
   "source": [
    "### Downloading HST COSMOS galaxy images"
   ]
  },
  {
   "cell_type": "code",
   "execution_count": null,
   "metadata": {},
   "outputs": [],
   "source": [
    "data_dir = 'data'\n",
    "cat_file_name = 'real_galaxy_catalog_23.5_example.fits'\n",
    "\n",
    "sky_level = 1e5        # ADU / arcsec^2\n",
    "gal_flux = 1e5   # arbitrary, choose large value for not too noisy images\n",
    "\n",
    "pixel_scale = 0.16  # arcsec\n",
    "random_seed = 5693562491"
   ]
  },
  {
   "cell_type": "code",
   "execution_count": null,
   "metadata": {},
   "outputs": [],
   "source": [
    "sb.download_HST_images(dest_dir=data_dir)"
   ]
  },
  {
   "cell_type": "code",
   "execution_count": null,
   "metadata": {},
   "outputs": [],
   "source": [
    "real_galaxy_catalog = galsim.RealGalaxyCatalog(cat_file_name, dir=data_dir)"
   ]
  },
  {
   "cell_type": "markdown",
   "metadata": {},
   "source": [
    "### PSF"
   ]
  },
  {
   "cell_type": "code",
   "execution_count": null,
   "metadata": {},
   "outputs": [],
   "source": [
    "# Create PSF\n",
    "psf = galsim.Gaussian(fwhm=fwhm_psf[0], flux=flux_frac_psf[0])\n",
    "for i in range(1, len(fwhm_psf)):\n",
    "    psf = psf + galsim.Gaussian(fwhm=fwhm_psf[i], flux=flux_frac_psf[i])\n",
    "\n",
    "# Draw PSF\n",
    "psf_image = psf.drawImage(scale=pixel_scale)"
   ]
  },
  {
   "cell_type": "markdown",
   "metadata": {},
   "source": [
    "### Galaxies"
   ]
  },
  {
   "cell_type": "code",
   "execution_count": null,
   "metadata": {},
   "outputs": [],
   "source": [
    "# Lensing magnification. Set to 1 for no magnification.\n",
    "magnification = 1\n",
    "\n",
    "# Constant background\n",
    "background = sky_level * pixel_scale**2"
   ]
  },
  {
   "cell_type": "code",
   "execution_count": null,
   "metadata": {
    "scrolled": true
   },
   "outputs": [],
   "source": [
    "all_images = {}\n",
    "im_test = {}\n",
    "k_test = 3\n",
    "\n",
    "for step in g_steps:\n",
    "    all_images[step] = []\n",
    "\n",
    "for k in range(n_gal):\n",
    "\n",
    "    print(k, end=' ')\n",
    "    rng = galsim.UniformDeviate(random_seed+k+1)\n",
    "    gal = galsim.RealGalaxy(real_galaxy_catalog, index=k, flux=gal_flux)\n",
    "    \n",
    "    for step in g_steps:\n",
    "        gal_sh = gal.shear(g1=g_values[step][0], g2=g_values[step][1])\n",
    "\n",
    "        if magnification != 1:\n",
    "            gal_sh = gal_sh.magnify(magnification)\n",
    "        \n",
    "        final = galsim.Convolve([psf, gal_sh])\n",
    "        \n",
    "        dx = rng() - 0.5\n",
    "        dy = rng() - 0.5\n",
    "\n",
    "        if k == 0:\n",
    "            im = final.drawImage(scale=pixel_scale, offset=(dx, dy))\n",
    "            xsize, ysize = im.array.shape\n",
    "        else:\n",
    "            im = galsim.ImageF(xsize, ysize)\n",
    "            final.drawImage(im, scale=pixel_scale, offset=(dx, dy))\n",
    " \n",
    "        if k == k_test and step == (0, 0):\n",
    "            im_test['no_noise'] = np.copy(im.array)\n",
    "\n",
    "        im.addNoise(galsim.PoissonNoise(rng=rng, sky_level=sky_level))\n",
    "\n",
    "        #ccd_noise = galsim.CCDNoise(rng, sky_level=0., gain=1., read_noise=0.)\n",
    "        #im.addNoise(ccd_noise)\n",
    "        if k == k_test:\n",
    "            if step == (0, 0):\n",
    "                im_test['no_shear'] = np.copy(im.array)\n",
    "            if step == (1, 0):\n",
    "                im_test['+g1'] = np.copy(im.array)\n",
    "            if step == (0, 1):\n",
    "                im_test['-g1'] = np.copy(im.array)\n",
    "\n",
    "        all_images[step].append(im)\n",
    "print()\n",
    "\n",
    "im_test['+g1-g1'] = all_images[(1,0)][k_test].array - all_images[(0, 1)][k_test].array"
   ]
  },
  {
   "cell_type": "markdown",
   "metadata": {},
   "source": [
    "#### Plot some galaxies"
   ]
  },
  {
   "cell_type": "code",
   "execution_count": null,
   "metadata": {},
   "outputs": [],
   "source": [
    "nim = len(im_test)\n",
    "fig, (axes) = plt.subplots(nrows=1, ncols=nim, figsize=(10, 5), tight_layout=True)\n",
    "\n",
    "for ax, key in zip(axes, im_test):\n",
    "    ax.imshow(im_test[key])\n",
    "    ax.set_title(key)"
   ]
  },
  {
   "cell_type": "code",
   "execution_count": null,
   "metadata": {},
   "outputs": [],
   "source": []
  }
 ],
 "metadata": {
  "kernelspec": {
   "display_name": "Python 3",
   "language": "python",
   "name": "python3"
  },
  "language_info": {
   "codemirror_mode": {
    "name": "ipython",
    "version": 3
   },
   "file_extension": ".py",
   "mimetype": "text/x-python",
   "name": "python",
   "nbconvert_exporter": "python",
   "pygments_lexer": "ipython3",
   "version": "3.9.2"
  }
 },
 "nbformat": 4,
 "nbformat_minor": 4
}
