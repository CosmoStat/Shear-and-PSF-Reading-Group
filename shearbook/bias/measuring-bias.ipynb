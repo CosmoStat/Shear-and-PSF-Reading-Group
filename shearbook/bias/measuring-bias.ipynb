{
 "cells": [
  {
   "cell_type": "markdown",
   "metadata": {},
   "source": [
    "```{code-block}\n",
    ":class: thebe, thebe-init\n",
    "# Automatic import for live code\n",
    "import numpy as np\n",
    "from shrbk.plot import *\n",
    "```"
   ]
  },
  {
   "cell_type": "markdown",
   "metadata": {},
   "source": [
    " (sec:measuring-bias)=\n",
    "# Measuring Bias\n",
    "\n",
    "In this section we will discuss several methods to measure shear bias.\n",
    "\n",
    "\n",
    "## Shear bias from individual galaxies\n",
    "\n",
    "{cite}`PKSB17` present a shape-noise-free shear bias estimator from individual simulated galaxies. The principle is similar to the metacalibration technique: A small shear is applied to a galaxy image, and the response matrix of the measured ellipticity to the shear is determined by finite differences.\n",
    "\n",
    "In general, the shear estimate for a single galaxy is dominated by shape noise. To beat down this noise, traditional methods use a very large number of galaxies. Some additional improvement can be gained by using rotated versions of the same galaxy, such that the sum of the intrinsic ellipticities is zero. The resulting shear estimate has a reduced variance.\n",
    "\n",
    "However, this does not account for the variance from the measured ellipticity, which does not only depend on the intrinsic one, but on the PSF, pixel noise, etc. In addition, all versions of the rotated galaxy need to be detected and have an measured shape, and therefore, selection biases are difficult to quantify with this method.\n",
    "\n",
    "To reduce shape noise (to virtually zero), {cite}`PKSB17` uses the same noise realisation is used for each sheared, and the unsheared image. The resulting estimate of the response per galaxy is highly precise. It is still not very accurate, since the measured value depends on the noise realisation. To increase the accuracy, a large number of simulated galaxies with different noise realisations is required. These galaxies are however anyway simulated to cover the large parameter space of galaxy properties.\n",
    "\n",
    "## Example\n",
    "Here we compute the individual shear bias from image simulations. This method is implemented in the library `shear_bias`."
   ]
  },
  {
   "cell_type": "code",
   "execution_count": 1,
   "metadata": {},
   "outputs": [
    {
     "data": {
      "text/plain": [
       "<module 'shear_bias' from '/local/home/mkilbing/miniconda3/envs/shear/lib/python3.9/site-packages/shear_bias-0.3-py3.9-linux-x86_64.egg/shear_bias/__init__.py'>"
      ]
     },
     "execution_count": 1,
     "metadata": {},
     "output_type": "execute_result"
    }
   ],
   "source": [
    "# Load the library\n",
    "import shear_bias as sb\n",
    "\n",
    "# Debugging\n",
    "import imp\n",
    "imp.reload(sb)"
   ]
  },
  {
   "cell_type": "markdown",
   "metadata": {},
   "source": [
    "### Set up"
   ]
  },
  {
   "cell_type": "markdown",
   "metadata": {},
   "source": [
    "#### Shear values"
   ]
  },
  {
   "cell_type": "markdown",
   "metadata": {},
   "source": [
    "First, set the value of the small shear $\\Delta g$ to add to the galaxy images."
   ]
  },
  {
   "cell_type": "code",
   "execution_count": 2,
   "metadata": {},
   "outputs": [],
   "source": [
    "dg = 0.02"
   ]
  },
  {
   "cell_type": "markdown",
   "metadata": {},
   "source": [
    "Define the five steps, one in each positive and negative direction along the two coordinate axis, plus the original unchanged image (0, 0)."
   ]
  },
  {
   "cell_type": "code",
   "execution_count": 3,
   "metadata": {},
   "outputs": [],
   "source": [
    "g_steps = [(-1, 0), (0, -1), (1, 0), (0, 1), (0, 0)]"
   ]
  },
  {
   "cell_type": "markdown",
   "metadata": {},
   "source": [
    "Create dictionary of shear values with step tuples as keys."
   ]
  },
  {
   "cell_type": "code",
   "execution_count": 4,
   "metadata": {},
   "outputs": [],
   "source": [
    "g_dict = {}\n",
    "for step in g_steps:\n",
    "    g_dict[step] = (step[0] * dg, step[1] * dg)\n",
    "g_values = g_dict.values()"
   ]
  },
  {
   "cell_type": "markdown",
   "metadata": {},
   "source": [
    "#### Number of images"
   ]
  },
  {
   "cell_type": "markdown",
   "metadata": {},
   "source": [
    "The number of galaxy postage stamps per image is nxy_tiles^2.\n",
    "If this number is modified, all output files from a previous\n",
    "run should be deleted."
   ]
  },
  {
   "cell_type": "code",
   "execution_count": 5,
   "metadata": {},
   "outputs": [],
   "source": [
    "nxy_tiles = 4"
   ]
  },
  {
   "cell_type": "markdown",
   "metadata": {},
   "source": [
    "The number of files with different constant shear and PSF.\n",
    "This parameter can be changed without deleting previous output files.\n",
    "\n",
    "Since processing takes quite some time, start with a small value for `nfiles`, and run the rest of this example. This value can be increased later, to download and process more image files without re-doing previously computed results."
   ]
  },
  {
   "cell_type": "code",
   "execution_count": 6,
   "metadata": {},
   "outputs": [],
   "source": [
    "nfiles = 2"
   ]
  },
  {
   "cell_type": "markdown",
   "metadata": {},
   "source": [
    "### Downloading image meta-data\n",
    "\n",
    "First, download `great3` meta-data and config files to create images."
   ]
  },
  {
   "cell_type": "code",
   "execution_count": 8,
   "metadata": {
    "scrolled": true
   },
   "outputs": [
    {
     "name": "stdout",
     "output_type": "stream",
     "text": [
      "Creating galsim/great3 input dir 'images/config/great3_csc'\n",
      "Downloading https://github.com/martinkilbinger/ede18_shear_cal/blob/master/data/great3/control/space/constant/epoch_catalog-000-0.fits?raw=true to images/config/great3_csc/epoch_catalog-000-0.fits...\n",
      "MKDEBUG\n",
      "Downloading https://github.com/martinkilbinger/ede18_shear_cal/blob/master/data/great3/control/space/constant/epoch_catalog-001-0.fits?raw=true to images/config/great3_csc/epoch_catalog-001-0.fits...\n",
      "MKDEBUG\n",
      "Downloading https://github.com/martinkilbinger/ede18_shear_cal/blob/master/data/great3/control/space/constant/epoch_parameters-000-0.yaml?raw=true to images/config/great3_csc/epoch_parameters-000-0.yaml...\n",
      "MKDEBUG\n",
      "Downloading https://github.com/martinkilbinger/ede18_shear_cal/blob/master/data/great3/control/space/constant/epoch_parameters-001-0.yaml?raw=true to images/config/great3_csc/epoch_parameters-001-0.yaml...\n",
      "MKDEBUG\n",
      "Downloading https://github.com/martinkilbinger/ede18_shear_cal/blob/master/data/great3/control/space/constant/star_catalog-000-0.fits?raw=true to images/config/great3_csc/star_catalog-000-0.fits...\n",
      "MKDEBUG\n",
      "Downloading https://github.com/martinkilbinger/ede18_shear_cal/blob/master/data/great3/control/space/constant/star_catalog-001-0.fits?raw=true to images/config/great3_csc/star_catalog-001-0.fits...\n",
      "MKDEBUG\n",
      "6 files downloaded\n",
      "*** End download_great3_data ***\n"
     ]
    }
   ],
   "source": [
    "# `great3` branch\n",
    "great3_branch = 'control/space/constant'\n",
    "\n",
    "# Remote and local image directories\n",
    "remote_cfg_dir = 'https://github.com/martinkilbinger/ede18_shear_cal/blob/master/data/great3/{}'\\\n",
    "                 ''.format(great3_branch)\n",
    "cfg_dir = 'images/config/great3_csc'   \n",
    "n_downloaded = sb.download_great3_data(cfg_dir, remote_cfg_dir, great3_branch, nfiles, mode='?raw=true')"
   ]
  },
  {
   "cell_type": "markdown",
   "metadata": {},
   "source": [
    "### Create images\n",
    "Run `galsim` to create galaxy images."
   ]
  },
  {
   "cell_type": "code",
   "execution_count": 10,
   "metadata": {},
   "outputs": [
    {
     "name": "stdout",
     "output_type": "stream",
     "text": [
      "*** Start create_all_sims_great3 ***\n",
      "For shear (-0.02,0.0), 2 images need to be created, running 'galsim'\n",
      "running galsim images/config/galsim/csc_multishear.yaml gal.shear.g1=-0.02 gal.shear.g2=0.0 input.catalog.dir=images/config/great3_csc input.dict.dir=images/config/great3_csc output.dir=images/galsim/g1_-0.02_g2_0.0 output.file_name.format=image-%03d-%1d.fits output.nfiles=2 image.nx_tiles=4 image.ny_tiles=4\n"
     ]
    },
    {
     "ename": "FileNotFoundError",
     "evalue": "[Errno 2] No such file or directory: 'galsim'",
     "output_type": "error",
     "traceback": [
      "\u001b[0;31m---------------------------------------------------------------------------\u001b[0m",
      "\u001b[0;31mFileNotFoundError\u001b[0m                         Traceback (most recent call last)",
      "\u001b[0;32m<ipython-input-10-cd3cfa2db619>\u001b[0m in \u001b[0;36m<module>\u001b[0;34m\u001b[0m\n\u001b[1;32m     13\u001b[0m \u001b[0;34m\u001b[0m\u001b[0m\n\u001b[1;32m     14\u001b[0m \u001b[0;34m\u001b[0m\u001b[0m\n\u001b[0;32m---> 15\u001b[0;31m sb.create_all_sims_great3(g_values, galsim_config_path, galsim_config_psf_path, \\\n\u001b[0m\u001b[1;32m     16\u001b[0m                           \u001b[0mcfg_dir\u001b[0m\u001b[0;34m,\u001b[0m \u001b[0mimages_base_dir\u001b[0m\u001b[0;34m,\u001b[0m \u001b[0moutput_gal_fname_format\u001b[0m\u001b[0;34m,\u001b[0m\u001b[0;31m \u001b[0m\u001b[0;31m\\\u001b[0m\u001b[0;34m\u001b[0m\u001b[0;34m\u001b[0m\u001b[0m\n\u001b[1;32m     17\u001b[0m                           output_psf_fname_format, nxy_tiles=nxy_tiles, nfiles=nfiles)\n",
      "\u001b[0;32m~/miniconda3/envs/shear/lib/python3.9/site-packages/shear_bias-0.3-py3.9-linux-x86_64.egg/shear_bias/simulations.py\u001b[0m in \u001b[0;36mcreate_all_sims_great3\u001b[0;34m(g_list, config_path, config_psf_path, input_dir, output_base_dir, output_gal_fname_format, output_psf_fname_format, nxy_tiles, nfiles, job)\u001b[0m\n\u001b[1;32m    155\u001b[0m         \u001b[0;32mif\u001b[0m \u001b[0mn_out_missing\u001b[0m \u001b[0;34m>\u001b[0m \u001b[0;36m0\u001b[0m\u001b[0;34m:\u001b[0m\u001b[0;34m\u001b[0m\u001b[0;34m\u001b[0m\u001b[0m\n\u001b[1;32m    156\u001b[0m             \u001b[0mprint\u001b[0m\u001b[0;34m(\u001b[0m\u001b[0;34m'For shear ({},{}), {} images need to be created, running \\'galsim\\''\u001b[0m\u001b[0;34m.\u001b[0m\u001b[0mformat\u001b[0m\u001b[0;34m(\u001b[0m\u001b[0mg\u001b[0m\u001b[0;34m[\u001b[0m\u001b[0;36m0\u001b[0m\u001b[0;34m]\u001b[0m\u001b[0;34m,\u001b[0m \u001b[0mg\u001b[0m\u001b[0;34m[\u001b[0m\u001b[0;36m1\u001b[0m\u001b[0;34m]\u001b[0m\u001b[0;34m,\u001b[0m \u001b[0mn_out_missing\u001b[0m\u001b[0;34m)\u001b[0m\u001b[0;34m)\u001b[0m\u001b[0;34m\u001b[0m\u001b[0;34m\u001b[0m\u001b[0m\n\u001b[0;32m--> 157\u001b[0;31m             create_sim_one_shear_great3(g, config_path, input_dir, output_dir, \\\n\u001b[0m\u001b[1;32m    158\u001b[0m                                         extra_str, output_gal_fname_format, nxy_tiles=nxy_tiles, job=job)\n\u001b[1;32m    159\u001b[0m         \u001b[0;32melse\u001b[0m\u001b[0;34m:\u001b[0m\u001b[0;34m\u001b[0m\u001b[0;34m\u001b[0m\u001b[0m\n",
      "\u001b[0;32m~/miniconda3/envs/shear/lib/python3.9/site-packages/shear_bias-0.3-py3.9-linux-x86_64.egg/shear_bias/simulations.py\u001b[0m in \u001b[0;36mcreate_sim_one_shear_great3\u001b[0;34m(g, config_path, input_dir, output_dir, extra_str, output_fname_format, nxy_tiles, job)\u001b[0m\n\u001b[1;32m    209\u001b[0m     \u001b[0mgalsim_command\u001b[0m \u001b[0;34m=\u001b[0m \u001b[0;34m'galsim {0} gal.shear.g1={1} gal.shear.g2={2} input.catalog.dir={3} input.dict.dir={3} output.dir={4} output.file_name.format={5}{6}'\u001b[0m\u001b[0;34m.\u001b[0m\u001b[0;31m \u001b[0m\u001b[0;31m\\\u001b[0m\u001b[0;34m\u001b[0m\u001b[0;34m\u001b[0m\u001b[0m\n\u001b[1;32m    210\u001b[0m         \u001b[0mformat\u001b[0m\u001b[0;34m(\u001b[0m\u001b[0mconfig_path\u001b[0m\u001b[0;34m,\u001b[0m \u001b[0mg\u001b[0m\u001b[0;34m[\u001b[0m\u001b[0;36m0\u001b[0m\u001b[0;34m]\u001b[0m\u001b[0;34m,\u001b[0m \u001b[0mg\u001b[0m\u001b[0;34m[\u001b[0m\u001b[0;36m1\u001b[0m\u001b[0;34m]\u001b[0m\u001b[0;34m,\u001b[0m \u001b[0minput_dir\u001b[0m\u001b[0;34m,\u001b[0m \u001b[0moutput_dir\u001b[0m\u001b[0;34m,\u001b[0m \u001b[0moutput_fname_format\u001b[0m\u001b[0;34m,\u001b[0m \u001b[0mextra_str\u001b[0m\u001b[0;34m)\u001b[0m\u001b[0;34m\u001b[0m\u001b[0;34m\u001b[0m\u001b[0m\n\u001b[0;32m--> 211\u001b[0;31m     \u001b[0mmisc\u001b[0m\u001b[0;34m.\u001b[0m\u001b[0mrun_command\u001b[0m\u001b[0;34m(\u001b[0m\u001b[0mgalsim_command\u001b[0m\u001b[0;34m,\u001b[0m \u001b[0mjob\u001b[0m\u001b[0;34m=\u001b[0m\u001b[0mjob\u001b[0m\u001b[0;34m)\u001b[0m\u001b[0;34m\u001b[0m\u001b[0;34m\u001b[0m\u001b[0m\n\u001b[0m\u001b[1;32m    212\u001b[0m \u001b[0;34m\u001b[0m\u001b[0m\n\u001b[1;32m    213\u001b[0m \u001b[0;34m\u001b[0m\u001b[0m\n",
      "\u001b[0;32m~/miniconda3/envs/shear/lib/python3.9/site-packages/shear_bias-0.3-py3.9-linux-x86_64.egg/shear_bias/misc.py\u001b[0m in \u001b[0;36mrun_command\u001b[0;34m(cmd, job, output_path, shell)\u001b[0m\n\u001b[1;32m    103\u001b[0m         \u001b[0;32melse\u001b[0m\u001b[0;34m:\u001b[0m\u001b[0;34m\u001b[0m\u001b[0;34m\u001b[0m\u001b[0m\n\u001b[1;32m    104\u001b[0m             \u001b[0mc\u001b[0m \u001b[0;34m=\u001b[0m \u001b[0mshlex\u001b[0m\u001b[0;34m.\u001b[0m\u001b[0msplit\u001b[0m\u001b[0;34m(\u001b[0m\u001b[0mcmd\u001b[0m\u001b[0;34m)\u001b[0m\u001b[0;34m\u001b[0m\u001b[0;34m\u001b[0m\u001b[0m\n\u001b[0;32m--> 105\u001b[0;31m             \u001b[0mpipe\u001b[0m \u001b[0;34m=\u001b[0m \u001b[0msubprocess\u001b[0m\u001b[0;34m.\u001b[0m\u001b[0mPopen\u001b[0m\u001b[0;34m(\u001b[0m\u001b[0mc\u001b[0m\u001b[0;34m,\u001b[0m \u001b[0mstdout\u001b[0m\u001b[0;34m=\u001b[0m\u001b[0msubprocess\u001b[0m\u001b[0;34m.\u001b[0m\u001b[0mPIPE\u001b[0m\u001b[0;34m)\u001b[0m\u001b[0;34m\u001b[0m\u001b[0;34m\u001b[0m\u001b[0m\n\u001b[0m\u001b[1;32m    106\u001b[0m             \u001b[0;31m#pipe = subprocess.Popen(c)\u001b[0m\u001b[0;34m\u001b[0m\u001b[0;34m\u001b[0m\u001b[0;34m\u001b[0m\u001b[0m\n\u001b[1;32m    107\u001b[0m             \u001b[0mex\u001b[0m \u001b[0;34m=\u001b[0m \u001b[0;36m0\u001b[0m\u001b[0;34m\u001b[0m\u001b[0;34m\u001b[0m\u001b[0m\n",
      "\u001b[0;32m~/miniconda3/envs/shear/lib/python3.9/subprocess.py\u001b[0m in \u001b[0;36m__init__\u001b[0;34m(self, args, bufsize, executable, stdin, stdout, stderr, preexec_fn, close_fds, shell, cwd, env, universal_newlines, startupinfo, creationflags, restore_signals, start_new_session, pass_fds, user, group, extra_groups, encoding, errors, text, umask)\u001b[0m\n\u001b[1;32m    945\u001b[0m                             encoding=encoding, errors=errors)\n\u001b[1;32m    946\u001b[0m \u001b[0;34m\u001b[0m\u001b[0m\n\u001b[0;32m--> 947\u001b[0;31m             self._execute_child(args, executable, preexec_fn, close_fds,\n\u001b[0m\u001b[1;32m    948\u001b[0m                                 \u001b[0mpass_fds\u001b[0m\u001b[0;34m,\u001b[0m \u001b[0mcwd\u001b[0m\u001b[0;34m,\u001b[0m \u001b[0menv\u001b[0m\u001b[0;34m,\u001b[0m\u001b[0;34m\u001b[0m\u001b[0;34m\u001b[0m\u001b[0m\n\u001b[1;32m    949\u001b[0m                                 \u001b[0mstartupinfo\u001b[0m\u001b[0;34m,\u001b[0m \u001b[0mcreationflags\u001b[0m\u001b[0;34m,\u001b[0m \u001b[0mshell\u001b[0m\u001b[0;34m,\u001b[0m\u001b[0;34m\u001b[0m\u001b[0;34m\u001b[0m\u001b[0m\n",
      "\u001b[0;32m~/miniconda3/envs/shear/lib/python3.9/subprocess.py\u001b[0m in \u001b[0;36m_execute_child\u001b[0;34m(self, args, executable, preexec_fn, close_fds, pass_fds, cwd, env, startupinfo, creationflags, shell, p2cread, p2cwrite, c2pread, c2pwrite, errread, errwrite, restore_signals, gid, gids, uid, umask, start_new_session)\u001b[0m\n\u001b[1;32m   1817\u001b[0m                     \u001b[0;32mif\u001b[0m \u001b[0merrno_num\u001b[0m \u001b[0;34m!=\u001b[0m \u001b[0;36m0\u001b[0m\u001b[0;34m:\u001b[0m\u001b[0;34m\u001b[0m\u001b[0;34m\u001b[0m\u001b[0m\n\u001b[1;32m   1818\u001b[0m                         \u001b[0merr_msg\u001b[0m \u001b[0;34m=\u001b[0m \u001b[0mos\u001b[0m\u001b[0;34m.\u001b[0m\u001b[0mstrerror\u001b[0m\u001b[0;34m(\u001b[0m\u001b[0merrno_num\u001b[0m\u001b[0;34m)\u001b[0m\u001b[0;34m\u001b[0m\u001b[0;34m\u001b[0m\u001b[0m\n\u001b[0;32m-> 1819\u001b[0;31m                     \u001b[0;32mraise\u001b[0m \u001b[0mchild_exception_type\u001b[0m\u001b[0;34m(\u001b[0m\u001b[0merrno_num\u001b[0m\u001b[0;34m,\u001b[0m \u001b[0merr_msg\u001b[0m\u001b[0;34m,\u001b[0m \u001b[0merr_filename\u001b[0m\u001b[0;34m)\u001b[0m\u001b[0;34m\u001b[0m\u001b[0;34m\u001b[0m\u001b[0m\n\u001b[0m\u001b[1;32m   1820\u001b[0m                 \u001b[0;32mraise\u001b[0m \u001b[0mchild_exception_type\u001b[0m\u001b[0;34m(\u001b[0m\u001b[0merr_msg\u001b[0m\u001b[0;34m)\u001b[0m\u001b[0;34m\u001b[0m\u001b[0;34m\u001b[0m\u001b[0m\n\u001b[1;32m   1821\u001b[0m \u001b[0;34m\u001b[0m\u001b[0m\n",
      "\u001b[0;31mFileNotFoundError\u001b[0m: [Errno 2] No such file or directory: 'galsim'"
     ]
    }
   ],
   "source": [
    "# `great3` config files for galsim \n",
    "galsim_config_fname = 'csc_multishear.yaml'\n",
    "galsim_config_psf_fname = 'csc_psf.yaml'\n",
    "galsim_config_dir = 'images/config/galsim'\n",
    "galsim_config_path = '{}/{}'.format(galsim_config_dir, galsim_config_fname)\n",
    "galsim_config_psf_path = '{}/{}'.format(galsim_config_dir, galsim_config_psf_fname)\n",
    "\n",
    "images_base_dir = 'images/galsim'\n",
    "\n",
    "# Image file name formats\n",
    "output_gal_fname_format = 'image-%03d-%1d.fits'\n",
    "output_psf_fname_format = 'starfield_image-%03d-%1d.fits'\n",
    "\n",
    "\n",
    "sb.create_all_sims_great3(g_values, galsim_config_path, galsim_config_psf_path, \\\n",
    "                          cfg_dir, images_base_dir, output_gal_fname_format, \\\n",
    "                          output_psf_fname_format, nxy_tiles=nxy_tiles, nfiles=nfiles)"
   ]
  },
  {
   "cell_type": "code",
   "execution_count": null,
   "metadata": {},
   "outputs": [],
   "source": []
  }
 ],
 "metadata": {
  "kernelspec": {
   "display_name": "Python 3",
   "language": "python",
   "name": "python3"
  },
  "language_info": {
   "codemirror_mode": {
    "name": "ipython",
    "version": 3
   },
   "file_extension": ".py",
   "mimetype": "text/x-python",
   "name": "python",
   "nbconvert_exporter": "python",
   "pygments_lexer": "ipython3",
   "version": "3.9.0"
  }
 },
 "nbformat": 4,
 "nbformat_minor": 4
}
