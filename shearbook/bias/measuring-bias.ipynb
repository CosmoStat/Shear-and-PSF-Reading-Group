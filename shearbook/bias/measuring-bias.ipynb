{
 "cells": [
  {
   "cell_type": "markdown",
   "metadata": {},
   "source": [
    "```{code-block}\n",
    ":class: thebe, thebe-init\n",
    "# Automatic import for live code\n",
    "import numpy as np\n",
    "from shrbk.plot import *\n",
    "```"
   ]
  },
  {
   "cell_type": "markdown",
   "metadata": {},
   "source": [
    " (sec:measuring-bias)=\n",
    "# Measuring Bias\n",
    "\n",
    "In this section we will discuss several methods to measure shear bias.\n",
    "\n",
    "\n",
    "## Shear bias from individual galaxies\n",
    "\n",
    "{cite}`PKSB17` present a shape-noise-free shear bias estimator from individual simulated galaxies. The principle is similar to the metacalibration technique: A small shear is applied to a galaxy image, and the response matrix of the measured ellipticity to the shear is determined by finite differences.\n",
    "\n",
    "In general, the shear estimate for a single galaxy is dominated by shape noise. To beat down this noise, traditional methods use a very large number of galaxies. Some additional improvement can be gained by using rotated versions of the same galaxy, such that the sum of the intrinsic ellipticities is zero. The resulting shear estimate has a reduced variance.\n",
    "\n",
    "However, this does not account for the variance from the measured ellipticity, which does not only depend on the intrinsic one, but on the PSF, pixel noise, etc. In addition, all versions of the rotated galaxy need to be detected and have an measured shape, and therefore, selection biases are difficult to quantify with this method.\n",
    "\n",
    "To reduce shape noise (to virtually zero), {cite}`PKSB17` uses the same noise realisation is used for each sheared, and the unsheared image. The resulting estimate of the response per galaxy is highly precise. It is still not very accurate, since the measured value depends on the noise realisation. To increase the accuracy, a large number of simulated galaxies with different noise realisations is required. These galaxies are however anyway simulated to cover the large parameter space of galaxy properties.\n",
    "\n",
    "## Example\n",
    "Here we compute the individual shear bias from image simulations. This method is implemented in the library `shear_bias`."
   ]
  },
  {
   "cell_type": "code",
   "execution_count": 13,
   "metadata": {},
   "outputs": [],
   "source": [
    "# Load the libraries\n",
    "import shear_bias as sb\n",
    "import galsim"
   ]
  },
  {
   "cell_type": "markdown",
   "metadata": {},
   "source": [
    "### Set up"
   ]
  },
  {
   "cell_type": "markdown",
   "metadata": {},
   "source": [
    "#### Shear values"
   ]
  },
  {
   "cell_type": "markdown",
   "metadata": {},
   "source": [
    "First, set the value of the small shear $\\Delta g$ to add to the galaxy images."
   ]
  },
  {
   "cell_type": "code",
   "execution_count": 14,
   "metadata": {},
   "outputs": [],
   "source": [
    "dg = 0.02"
   ]
  },
  {
   "cell_type": "markdown",
   "metadata": {},
   "source": [
    "Define the five steps, one in each positive and negative direction along the two coordinate axis, plus the original unchanged image (0, 0)."
   ]
  },
  {
   "cell_type": "code",
   "execution_count": 15,
   "metadata": {},
   "outputs": [],
   "source": [
    "g_steps = [(-1, 0), (0, -1), (1, 0), (0, 1), (0, 0)]"
   ]
  },
  {
   "cell_type": "markdown",
   "metadata": {},
   "source": [
    "Create dictionary of shear values with step tuples as keys."
   ]
  },
  {
   "cell_type": "code",
   "execution_count": 47,
   "metadata": {},
   "outputs": [],
   "source": [
    "g_values = {}\n",
    "for step in g_steps:\n",
    "    g_values[step] = (step[0] * dg, step[1] * dg)"
   ]
  },
  {
   "cell_type": "markdown",
   "metadata": {},
   "source": [
    "#### Number of galaxy images"
   ]
  },
  {
   "cell_type": "code",
   "execution_count": 32,
   "metadata": {},
   "outputs": [],
   "source": [
    "n_gal = 10"
   ]
  },
  {
   "cell_type": "markdown",
   "metadata": {},
   "source": [
    "### Downloading HST COSMOS galaxy images"
   ]
  },
  {
   "cell_type": "code",
   "execution_count": null,
   "metadata": {},
   "outputs": [],
   "source": [
    "data_dir = 'data'\n",
    "cat_file_name = 'real_galaxy_catalog_23.5_example.fits'\n",
    "\n",
    "sky_level = 1e6        # ADU / arcsec^2\n",
    "pixel_scale = 0.16  # arcsec\n",
    "random_seed = 5693562491"
   ]
  },
  {
   "cell_type": "code",
   "execution_count": 6,
   "metadata": {},
   "outputs": [
    {
     "name": "stdout",
     "output_type": "stream",
     "text": [
      "Data file data/real_galaxy_catalog_23.5_example.fits already exists, skipping...\n",
      "Data file data/acs_I_unrot_sci_20_cf.fits already exists, skipping...\n",
      "Data file data/real_galaxy_images.fits already exists, skipping...\n",
      "Data file data/real_galaxy_PSF_images.fits already exists, skipping...\n"
     ]
    }
   ],
   "source": [
    "sb.download_HST_images(dest_dir=data_dir)"
   ]
  },
  {
   "cell_type": "code",
   "execution_count": 51,
   "metadata": {},
   "outputs": [],
   "source": [
    "real_galaxy_catalog = galsim.RealGalaxyCatalog(cat_file_name, dir=data_dir)"
   ]
  },
  {
   "cell_type": "markdown",
   "metadata": {},
   "source": [
    "### PSF"
   ]
  },
  {
   "cell_type": "code",
   "execution_count": 28,
   "metadata": {},
   "outputs": [],
   "source": [
    "# Specify PSF with two components\n",
    "fwhm_psf = [0.6, 2.3]       # in arcsec\n",
    "flux_frac_psf = [0.8, 0.2]  # flux fraction"
   ]
  },
  {
   "cell_type": "code",
   "execution_count": 30,
   "metadata": {},
   "outputs": [],
   "source": [
    "# Create PSF\n",
    "psf = galsim.Gaussian(fwhm=fwhm_psf[0], flux=flux_frac_psf[0])\n",
    "for i in range(1, len(fwhm_psf)):\n",
    "    psf = psf + galsim.Gaussian(fwhm=fwhm_psf[i], flux=flux_frac_psf[i])\n",
    "\n",
    "# Draw PSF\n",
    "psf_image = psf.drawImage(scale=pixel_scale)"
   ]
  },
  {
   "cell_type": "markdown",
   "metadata": {},
   "source": [
    "### Galaxies"
   ]
  },
  {
   "cell_type": "code",
   "execution_count": 54,
   "metadata": {},
   "outputs": [],
   "source": [
    "gal_flux = 1e5   # arbitrary, choose large value for not too noisy images\n",
    "magnification = 1"
   ]
  },
  {
   "cell_type": "code",
   "execution_count": 56,
   "metadata": {
    "scrolled": true
   },
   "outputs": [
    {
     "ename": "KeyboardInterrupt",
     "evalue": "",
     "output_type": "error",
     "traceback": [
      "\u001b[0;31m---------------------------------------------------------------------------\u001b[0m",
      "\u001b[0;31mKeyboardInterrupt\u001b[0m                         Traceback (most recent call last)",
      "\u001b[0;32m<ipython-input-56-ac81c068deff>\u001b[0m in \u001b[0;36m<module>\u001b[0;34m\u001b[0m\n\u001b[1;32m      3\u001b[0m \u001b[0;34m\u001b[0m\u001b[0m\n\u001b[1;32m      4\u001b[0m     \u001b[0mrng\u001b[0m \u001b[0;34m=\u001b[0m \u001b[0mgalsim\u001b[0m\u001b[0;34m.\u001b[0m\u001b[0mUniformDeviate\u001b[0m\u001b[0;34m(\u001b[0m\u001b[0mrandom_seed\u001b[0m\u001b[0;34m+\u001b[0m\u001b[0mk\u001b[0m\u001b[0;34m+\u001b[0m\u001b[0;36m1\u001b[0m\u001b[0;34m)\u001b[0m\u001b[0;34m\u001b[0m\u001b[0;34m\u001b[0m\u001b[0m\n\u001b[0;32m----> 5\u001b[0;31m     \u001b[0mgal\u001b[0m \u001b[0;34m=\u001b[0m \u001b[0mgalsim\u001b[0m\u001b[0;34m.\u001b[0m\u001b[0mRealGalaxy\u001b[0m\u001b[0;34m(\u001b[0m\u001b[0mreal_galaxy_catalog\u001b[0m\u001b[0;34m,\u001b[0m \u001b[0mindex\u001b[0m\u001b[0;34m=\u001b[0m\u001b[0mk\u001b[0m\u001b[0;34m,\u001b[0m \u001b[0mflux\u001b[0m\u001b[0;34m=\u001b[0m\u001b[0mgal_flux\u001b[0m\u001b[0;34m)\u001b[0m\u001b[0;34m\u001b[0m\u001b[0;34m\u001b[0m\u001b[0m\n\u001b[0m\u001b[1;32m      6\u001b[0m \u001b[0;34m\u001b[0m\u001b[0m\n\u001b[1;32m      7\u001b[0m     \u001b[0;32mfor\u001b[0m \u001b[0mstep\u001b[0m \u001b[0;32min\u001b[0m \u001b[0mg_steps\u001b[0m\u001b[0;34m:\u001b[0m\u001b[0;34m\u001b[0m\u001b[0;34m\u001b[0m\u001b[0m\n",
      "\u001b[0;32m~/anaconda3/envs/shear/lib/python3.9/site-packages/galsim/real.py\u001b[0m in \u001b[0;36m__init__\u001b[0;34m(self, real_galaxy_catalog, index, id, random, rng, x_interpolant, k_interpolant, flux, flux_rescale, pad_factor, noise_pad_size, area_norm, gsparams, logger)\u001b[0m\n\u001b[1;32m    250\u001b[0m             \u001b[0;31m# want it to be possible to have the RealGalaxyCatalog in another process, and the\u001b[0m\u001b[0;34m\u001b[0m\u001b[0;34m\u001b[0m\u001b[0;34m\u001b[0m\u001b[0m\n\u001b[1;32m    251\u001b[0m             \u001b[0;31m# BaseCorrelatedNoise object is not picklable.  So we just build it here instead.\u001b[0m\u001b[0;34m\u001b[0m\u001b[0;34m\u001b[0m\u001b[0;34m\u001b[0m\u001b[0m\n\u001b[0;32m--> 252\u001b[0;31m             \u001b[0mnoise_image\u001b[0m\u001b[0;34m,\u001b[0m \u001b[0mpixel_scale\u001b[0m\u001b[0;34m,\u001b[0m \u001b[0mvar\u001b[0m \u001b[0;34m=\u001b[0m \u001b[0mreal_galaxy_catalog\u001b[0m\u001b[0;34m.\u001b[0m\u001b[0mgetNoiseProperties\u001b[0m\u001b[0;34m(\u001b[0m\u001b[0muse_index\u001b[0m\u001b[0;34m)\u001b[0m\u001b[0;34m\u001b[0m\u001b[0;34m\u001b[0m\u001b[0m\n\u001b[0m\u001b[1;32m    253\u001b[0m             \u001b[0mlogger\u001b[0m\u001b[0;34m.\u001b[0m\u001b[0mdebug\u001b[0m\u001b[0;34m(\u001b[0m\u001b[0;34m'RealGalaxy %d: Got noise_image'\u001b[0m\u001b[0;34m,\u001b[0m\u001b[0muse_index\u001b[0m\u001b[0;34m)\u001b[0m\u001b[0;34m\u001b[0m\u001b[0;34m\u001b[0m\u001b[0m\n\u001b[1;32m    254\u001b[0m             \u001b[0mself\u001b[0m\u001b[0;34m.\u001b[0m\u001b[0mcatalog_file\u001b[0m \u001b[0;34m=\u001b[0m \u001b[0mreal_galaxy_catalog\u001b[0m\u001b[0;34m.\u001b[0m\u001b[0mgetFileName\u001b[0m\u001b[0;34m(\u001b[0m\u001b[0;34m)\u001b[0m\u001b[0;34m\u001b[0m\u001b[0;34m\u001b[0m\u001b[0m\n",
      "\u001b[0;32m~/anaconda3/envs/shear/lib/python3.9/site-packages/galsim/real.py\u001b[0m in \u001b[0;36mgetNoiseProperties\u001b[0;34m(self, i)\u001b[0m\n\u001b[1;32m    754\u001b[0m                 \u001b[0mself\u001b[0m\u001b[0;34m.\u001b[0m\u001b[0mlogger\u001b[0m\u001b[0;34m.\u001b[0m\u001b[0mdebug\u001b[0m\u001b[0;34m(\u001b[0m\u001b[0;34m'RealGalaxyCatalog %d: Got saved noise im'\u001b[0m\u001b[0;34m,\u001b[0m\u001b[0mi\u001b[0m\u001b[0;34m)\u001b[0m\u001b[0;34m\u001b[0m\u001b[0;34m\u001b[0m\u001b[0m\n\u001b[1;32m    755\u001b[0m             \u001b[0;32melse\u001b[0m\u001b[0;34m:\u001b[0m\u001b[0;34m\u001b[0m\u001b[0;34m\u001b[0m\u001b[0m\n\u001b[0;32m--> 756\u001b[0;31m                 \u001b[0mself\u001b[0m\u001b[0;34m.\u001b[0m\u001b[0mnoise_lock\u001b[0m\u001b[0;34m.\u001b[0m\u001b[0macquire\u001b[0m\u001b[0;34m(\u001b[0m\u001b[0;34m)\u001b[0m\u001b[0;34m\u001b[0m\u001b[0;34m\u001b[0m\u001b[0m\n\u001b[0m\u001b[1;32m    757\u001b[0m                 \u001b[0;31m# Again, a second check in case two processes get here at the same time.\u001b[0m\u001b[0;34m\u001b[0m\u001b[0;34m\u001b[0m\u001b[0;34m\u001b[0m\u001b[0m\n\u001b[1;32m    758\u001b[0m                 \u001b[0;32mif\u001b[0m \u001b[0mself\u001b[0m\u001b[0;34m.\u001b[0m\u001b[0mnoise_file_name\u001b[0m\u001b[0;34m[\u001b[0m\u001b[0mi\u001b[0m\u001b[0;34m]\u001b[0m \u001b[0;32min\u001b[0m \u001b[0mself\u001b[0m\u001b[0;34m.\u001b[0m\u001b[0msaved_noise_im\u001b[0m\u001b[0;34m:\u001b[0m  \u001b[0;31m# pragma: no cover\u001b[0m\u001b[0;34m\u001b[0m\u001b[0;34m\u001b[0m\u001b[0m\n",
      "\u001b[0;31mKeyboardInterrupt\u001b[0m: "
     ]
    }
   ],
   "source": [
    "all_images = {}\n",
    "for step in g_steps:\n",
    "    all_images[step] = []\n",
    "\n",
    "for k in range(n_gal):\n",
    "\n",
    "    print(k, end=' ')\n",
    "    rng = galsim.UniformDeviate(random_seed+k+1)\n",
    "    gal = galsim.RealGalaxy(real_galaxy_catalog, index=k, flux=gal_flux)\n",
    "    \n",
    "    for step in g_steps:\n",
    "        gal_sh = gal.shear(g1=g_values[step][0], g2=g_values[step][1])\n",
    "\n",
    "        if magnification != 1:\n",
    "            gal_sh = gal_sh.magnify(magnification)\n",
    "        \n",
    "        final = galsim.Convolve([psf, gal_sh])\n",
    "        \n",
    "        dx = rng() - 0.5\n",
    "        dy = rng() - 0.5\n",
    "\n",
    "        im = final.drawImage(scale=pixel_scale, offset=(dx,dy))\n",
    "        xsize, ysize = im.array.shape\n",
    "        \n",
    "        # Constant background\n",
    "        background = sky_level * pixel_scale**2\n",
    "\n",
    "        im.addNoise(galsim.PoissonNoise(rng))\n",
    "        \n",
    "        all_images[step].append(im)"
   ]
  },
  {
   "cell_type": "markdown",
   "metadata": {},
   "source": [
    "### Downloading image meta-data\n",
    "\n",
    "First, download `great3` meta-data and config files to create images."
   ]
  },
  {
   "cell_type": "code",
   "execution_count": null,
   "metadata": {},
   "outputs": [],
   "source": []
  }
 ],
 "metadata": {
  "kernelspec": {
   "display_name": "Python 3",
   "language": "python",
   "name": "python3"
  },
  "language_info": {
   "codemirror_mode": {
    "name": "ipython",
    "version": 3
   },
   "file_extension": ".py",
   "mimetype": "text/x-python",
   "name": "python",
   "nbconvert_exporter": "python",
   "pygments_lexer": "ipython3",
   "version": "3.9.2"
  }
 },
 "nbformat": 4,
 "nbformat_minor": 4
}
