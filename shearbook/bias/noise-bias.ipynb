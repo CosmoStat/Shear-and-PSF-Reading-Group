{
 "cells": [
  {
   "cell_type": "markdown",
   "metadata": {},
   "source": [
    "(sec:noise-bias)=\n",
    "# Noise Bias\n",
    "\n",
    "In this section we will look into the concept of noise bias."
   ]
  },
  {
   "cell_type": "markdown",
   "metadata": {},
   "source": [
    "## Definition\n",
    "\n",
    "Noise bias is a source of bias in shape estimation. Noise bias arises due to the non-linear relationship between images pixels and the true shape of a galaxy. All definitions of ellipticity are non-linear as they include a ratio of the semi-major and semi-minor axes of the object in question. This non-linearity induces a bias when the noise is propagated (see *e.g.* {cite}`2012MNRAS.424.2757M` for details)."
   ]
  },
  {
   "cell_type": "markdown",
   "metadata": {},
   "source": [
    "## Sources of Noise\n",
    "\n",
    "Noise in astronomical images stems from various sources including:\n",
    "\n",
    "- **Shot Noise:** [Shot or Poisson noise](https://en.wikipedia.org/wiki/Shot_noise) arises from that fact that light from distant sources arrives in the form of discrete or quantized packets at random times.\n",
    "- **Readout Noise:** Readout or read noise is a source of Gaussian noise arising from the CCD electronics. As pixel values are read some electrons are randomly lost or gained. This has a greater impact on fainter images with shorter exposure times."
   ]
  },
  {
   "cell_type": "markdown",
   "metadata": {},
   "source": [
    "## Measuring Noise Bias\n",
    "\n",
    "Noise bias can be estimated by adding noise to images where the shape of the galaxy in question is perfectly known then comparing the measured shape. This process should be repeated for various realisations of the noise model in order to gauge the amplitude of the noise bias. "
   ]
  },
  {
   "cell_type": "markdown",
   "metadata": {},
   "source": [
    "## Correcting for Noise Bias"
   ]
  },
  {
   "cell_type": "markdown",
   "metadata": {},
   "source": [
    "## Model and Noise Bias Interaction\n",
    "\n",
    "Images that contain a significant amount of noise, for which an imperfect model is used to fit the galaxy shape, can be impacted by an additional bias effect caused by the interaction between noise bias and [model bias](sec:model-bias) .\n",
    "\n",
    "{cite}`2014MNRAS.441.2528K` attempted to isolate this interaction component to quantify its impact. While tests with a toy model indicated that the level this effect could be up to a few percent, tests on more realistic COSMOS images showed that this term is very small and often consistent with zero."
   ]
  }
 ],
 "metadata": {
  "kernelspec": {
   "display_name": "Python 3",
   "language": "python",
   "name": "python3"
  },
  "language_info": {
   "codemirror_mode": {
    "name": "ipython",
    "version": 3
   },
   "file_extension": ".py",
   "mimetype": "text/x-python",
   "name": "python",
   "nbconvert_exporter": "python",
   "pygments_lexer": "ipython3",
   "version": "3.9.0"
  }
 },
 "nbformat": 4,
 "nbformat_minor": 4
}
