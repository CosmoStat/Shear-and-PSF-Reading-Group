{
 "cells": [
  {
   "cell_type": "markdown",
   "metadata": {},
   "source": [
    "## Weak Lensing\n",
    "\n",
    "A quick note on how the reduced shear is defined in Weak Lensing.\n",
    "\n",
    "![Weak Lensing Scheme](weak_lensing_scheme.jpeg)\n",
    "\n",
    "In the scheme above, let $\\Sigma$ be the surface mass density of the Dark Matter (L) then its lensing potential is given by:\n",
    "\n",
    "$$\n",
    "\\Psi(\\theta) = \\frac{4G}{c^2}\n",
    "               \\frac{D_{l}D_{s}}{D_{ls}}\n",
    "               \\int \\Sigma{\\left(\\theta'\\right)} \\ln \\left\\|\n",
    "                                               \\theta - \\theta' \n",
    "                                               \\right\\| \n",
    "                   d^2\\theta' \\quad,\n",
    "$$ (lensing)\n",
    "\n",
    "where $G$ and $c$ are the gravitational constant and the speed of light in vacuum and $D_{l}$, $D_{s}$ and $D_{l,s}$ are the angular diameter distances between the observer and the lens (OL), the observer and the source (OS) and the lens and the source (LS), respectively.\n",
    "\n",
    "The deflection of the light rays is approximated well enough by the angle\n",
    "\n",
    "$$\n",
    "\\alpha(\\theta) = \\nabla \\Psi(\\theta) \\quad.\n",
    "$$\n",
    "\n",
    "This angle is related to the angular positions of the source $\\beta$ to the image $\\theta$ on the sky by the lens equation:\n",
    "\n",
    "$$\n",
    "\\beta = \\theta - \\alpha(\\theta) \\quad.\n",
    "$$ (lens)\n",
    "\n",
    "Under weak lensing assumptions (lens mapping almost constant along the solid angle of the soucre), the lens mapping is locally linear and the Jacobian matrix of the image distorsion is:\n",
    "\n",
    "$$\n",
    "A \\equiv \\frac{\\partial \\beta}{\\partial \\theta} \n",
    "  = \\left( \\delta_{ij} - \\frac{\\partial^2 \\Psi(\\theta)}{\\partial \\theta_{i} \\partial \\theta_{j}} \\right)\n",
    "  = \\begin{pmatrix}\n",
    "          1-\\kappa -\\gamma_1 & -\\gamma_2 \\\\\n",
    "          -\\gamma_2 & 1-\\kappa+\\gamma_! \n",
    "    \\end{pmatrix}\n",
    "$$ (jacobian_lensing)\n",
    "\n",
    "with the convergence\n",
    "\n",
    "$$\n",
    "\\kappa (\\theta) = \\frac{1}{2}\\left(\\Psi_{11} + \\Psi_{22}\\right)\n",
    "$$\n",
    "and the two components\n",
    "\n",
    "$$\n",
    "\\gamma_1 = \\frac{1}{2} \\left(\\Psi_{11} - \\Psi_{22}\\right), \\quad \\gamma_2 = \\Psi_{12}\n",
    "$$\n",
    "\n",
    "of the complex shear $\\gamma = \\gamma_1 + \\boldsymbol{i} \\gamma_2$.\n",
    "\n",
    "In the KSB method, the reduced shear is the measure of image distorsions and is defined as:\n",
    "\n",
    "$$\n",
    "g = \\frac{\\gamma}{1-\\kappa}\n",
    "$$"
   ]
  },
  {
   "cell_type": "code",
   "execution_count": null,
   "metadata": {},
   "outputs": [],
   "source": []
  }
 ],
 "metadata": {
  "kernelspec": {
   "display_name": "Python 3",
   "language": "python",
   "name": "python3"
  },
  "language_info": {
   "codemirror_mode": {
    "name": "ipython",
    "version": 3
   },
   "file_extension": ".py",
   "mimetype": "text/x-python",
   "name": "python",
   "nbconvert_exporter": "python",
   "pygments_lexer": "ipython3",
   "version": "3.8.6"
  }
 },
 "nbformat": 4,
 "nbformat_minor": 4
}
