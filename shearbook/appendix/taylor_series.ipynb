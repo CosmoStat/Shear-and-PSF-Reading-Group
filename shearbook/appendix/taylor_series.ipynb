{
 "cells": [
  {
   "cell_type": "markdown",
   "metadata": {},
   "source": [
    "# Taylor Series for Approximations\n",
    "\n",
    "Taylor series are commonly used in physics to approximate functions making them easier to handle specially when solving equations. In this notebook we give a visual example on how it works and the biases that it introduces.\n",
    "\n",
    "## Theoretical Formula\n",
    "\n",
    "Consider a function $f$ that is $n$ times differentiable in a point $a$. Then by Taylor's theorem, for any point $x$ in the domain of f, we have the Taylor expansion about the point $a$ is defined as:\n",
    "\\begin{equation}\n",
    "f(x) = f(a) + \\sum_{k=1}^n \\frac{f^{k}(a)}{k!}(x-a)^k + o\\left((x-a)^n\\right) \\quad,\n",
    "\\end{equation}\n",
    "where $f^{(k)}$ is the derivative of order $k$ of $f$. Usually, we consider $a=0$ which gives:\n",
    "\\begin{equation}\n",
    "f(x) = f(0) + \\sum_{k=1}^n \\frac{f^{k}(0)}{k!}(x)^k + o\\left((x)^n\\right) \\quad.\n",
    "\\end{equation}\n",
    "\n",
    "For example, the exponential, $e$ is infinitely differentiable with $e^{(k)}=e$ and $e^0=1$. This gives us the following Taylor expansion:\n",
    "\\begin{equation}\n",
    "e(x) = 1 + \\sum_{k=1}^\\infty \\frac{x^k}{k!} \\quad.\n",
    "\\end{equation}"
   ]
  },
  {
   "cell_type": "markdown",
   "metadata": {},
   "source": [
    "## Visualising Taylor Expansion Approximation and its Bias\n",
    "\n",
    "Let us see visually how the Taylor expansion approximatees a given function. We start by defining our function below, for example we will consider the exponential function, $e$ again up to order 3."
   ]
  },
  {
   "cell_type": "code",
   "execution_count": 2,
   "metadata": {
    "code_folding": [
     0
    ]
   },
   "outputs": [],
   "source": [
    "#### FOLDED CELL\n",
    "%matplotlib inline\n",
    "import matplotlib.pyplot as plt\n",
    "from IPython.display import Markdown as md\n",
    "from sympy import Symbol, series, lambdify, latex\n",
    "from sympy.functions import *\n",
    "from ipywidgets import interactive_output\n",
    "import ipywidgets as widgets\n",
    "from sympy.parsing.sympy_parser import parse_expr\n",
    "import numpy as np\n",
    "\n",
    "x = Symbol('x')"
   ]
  },
  {
   "cell_type": "code",
   "execution_count": 3,
   "metadata": {},
   "outputs": [],
   "source": [
    "order = 3\n",
    "func = exp(x)"
   ]
  },
  {
   "cell_type": "code",
   "execution_count": 4,
   "metadata": {
    "code_folding": [
     0
    ]
   },
   "outputs": [],
   "source": [
    "#### FOLDED CELL\n",
    "taylor_exp = series(func,x,n=order+1)\n",
    "approx = lambdify(x, sum(taylor_exp.args[:-1]), \"numpy\")\n",
    "func_np = lambdify(x, func, \"numpy\")\n",
    "latex_func = '$'+latex(func)+'$'\n",
    "latex_taylor = '\\\\begin{equation} '+latex(taylor_exp)+' \\end{equation}'"
   ]
  },
  {
   "cell_type": "markdown",
   "metadata": {
    "variables": {
     " latex_func ": "$e^{x}$",
     "latex_taylor": "\\begin{equation} 1 + x + \\frac{x^{2}}{2} + \\frac{x^{3}}{6} + O\\left(x^{4}\\right) \\end{equation}"
    }
   },
   "source": [
    "The Taylor expansion of  {{ latex_func }} is :\n",
    "{{latex_taylor}}\n",
    "\n",
    "Now let's plot the function and its expansion while considering a point, noted $p$, to study the biais that we introduce when we approximate the function by its expansion:"
   ]
  },
  {
   "cell_type": "code",
   "execution_count": 5,
   "metadata": {
    "code_folding": [
     0
    ]
   },
   "outputs": [
    {
     "data": {
      "image/png": "[encoded data removed]",
      "text/plain": [
       "<Figure size 720x720 with 1 Axes>"
      ]
     },
     "metadata": {
      "needs_background": "light"
     },
     "output_type": "display_data"
    },
    {
     "name": "stdout",
     "output_type": "stream",
     "text": [
      "Approximation  order : 3\n",
      "Approximation  bias  : 7.085536923187668\n"
     ]
    }
   ],
   "source": [
    "#### FOLDED CELL\n",
    "text_offset = np.array([-0.15,2.])\n",
    "\n",
    "func='exp(x)'\n",
    "order = 3\n",
    "x1 = 3\n",
    "x_min, x_max = -4,4\n",
    "func_sp = parse_expr(func)\n",
    "taylor_exp = series(func_sp,x,n=order+1)\n",
    "approx = lambdify(x, sum(taylor_exp.args[:-1]), \"numpy\")\n",
    "func_np = lambdify(x, func_sp, \"numpy\")\n",
    "n_points = 1000\n",
    "x_array = np.linspace(x_min,x_max,n_points)\n",
    "approx_array = np.array([approx(z) for z in x_array])\n",
    "func_array = np.array([func_np(z) for z in x_array])\n",
    "func_x1 = func_np(x1)\n",
    "approx_x1 = approx(x1)\n",
    "plt.figure(42,figsize=(10,10))\n",
    "plt.plot(x_array,approx_array,color='blue',label='Taylor Expansion')\n",
    "plt.plot(x_array,func_array,color='green',label=func)\n",
    "plt.plot(0,approx(0),color='black',marker='o')\n",
    "plt.annotate(r'(0,0)',[0,approx(0)],xytext=text_offset)\n",
    "plt.plot([x1,x1]\n",
    "         ,[-np.max(np.abs([np.min(func_array),np.max(func_array)])),min(approx_x1, func_x1)]\n",
    "         ,'--',color='black',marker='x')\n",
    "plt.plot([x1,x1],[approx_x1, func_x1],'r--',marker='x')\n",
    "plt.annotate(r'$p_{approx}$',[x1,approx(x1)],xytext=[x1,approx(x1)]-text_offset)\n",
    "plt.annotate(r'$p$',[x1,func_np(x1)],xytext=[x1,func_np(x1)]-text_offset)\n",
    "plt.xlim([x_min,x_max])\n",
    "plt.ylim(-np.max(np.abs([np.min(func_array),np.max(func_array)]))\n",
    "         ,np.max(np.abs([np.min(func_array),np.max(func_array)])))\n",
    "plt.legend()\n",
    "plt.show()\n",
    "print('Approximation  order : {}'.format(order))\n",
    "print('Approximation  bias  : {}'.format(func_x1-approx_x1))"
   ]
  },
  {
   "cell_type": "markdown",
   "metadata": {},
   "source": [
    "Notice that the further $p$ gets away from the point of the expansion (in that case $0$), the higher the approximation bias gets. Samely, the lower the order of approximation is, the higher the approximation bias gets."
   ]
  }
 ],
 "metadata": {
  "kernelspec": {
   "display_name": "Python 3",
   "language": "python",
   "name": "python3"
  },
  "language_info": {
   "codemirror_mode": {
    "name": "ipython",
    "version": 3
   },
   "file_extension": ".py",
   "mimetype": "text/x-python",
   "name": "python",
   "nbconvert_exporter": "python",
   "pygments_lexer": "ipython3",
   "version": "3.8.6"
  }
 },
 "nbformat": 4,
 "nbformat_minor": 4
}
