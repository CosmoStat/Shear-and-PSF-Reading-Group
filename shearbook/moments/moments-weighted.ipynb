{
 "cells": [
  {
   "cell_type": "markdown",
   "metadata": {},
   "source": [
    "(content:weighted)=\n",
    "# Weighted Moments\n",
    "\n",
    "Observed galaxy images are corrupted by noise. Straightforward measures of ellipticity on such images lack robustness, see figure below for example."
   ]
  },
  {
   "cell_type": "code",
   "execution_count": 43,
   "metadata": {},
   "outputs": [
    {
     "name": "stdout",
     "output_type": "stream",
     "text": [
      "Ellipticity  of  the  clean star  image : -0.0040+i0.1980\n",
      "Ellipticity  of  the  noisy star  image : -0.0050+i0.2190\n"
     ]
    },
    {
     "data": {
      "image/png": "[encoded data removed]",
      "text/plain": [
       "<Figure size 720x504 with 2 Axes>"
      ]
     },
     "metadata": {
      "needs_background": "light"
     },
     "output_type": "display_data"
    },
    {
     "name": "stdout",
     "output_type": "stream",
     "text": [
      "The noisy star and the clean star images are binary images.\n",
      "They differ from each other by one pixel on the bottom right of the noisy star image.\n",
      "This pixel induces a difference in ellipticity estimation of : 10.6% between the two images\n"
     ]
    }
   ],
   "source": [
    "import numpy as np\n",
    "import matplotlib.pyplot as plt\n",
    "\n",
    "def get_centroid(data):\n",
    "    \n",
    "    # Sum flux over x and y individually\n",
    "    sum_i = np.array([np.sum(data, axis=i) for i in (1, 0)])\n",
    "    \n",
    "    # Get range of x and y values\n",
    "    ranges = np.array([np.arange(i) for i in data.shape])\n",
    "    \n",
    "    # Calculate centroids\n",
    "    cents = np.sum(sum_i * ranges, axis=1) / np.sum(data)\n",
    "    \n",
    "    return cents.astype(int)\n",
    "\n",
    "def get_moments(data):\n",
    "    \n",
    "    centroid = get_centroid(data)\n",
    "    ranges = np.array([np.arange(i) for i in data.shape])\n",
    "    \n",
    "    x = np.outer(ranges[0] - centroid[0], np.ones(data.shape[1]))\n",
    "    y = np.outer(np.ones(data.shape[0]), ranges[1] - centroid[1])\n",
    "    \n",
    "    q = np.array([np.sum(data * xi * xj) for xi in (x, y) for xj in (x, y)])\n",
    "    q = (q / np.sum(data)).reshape(2, 2).astype('complex')\n",
    "    \n",
    "    return q\n",
    "\n",
    "def get_ellipticity(data, method='chi'):\n",
    "    \n",
    "    # Calculate moments\n",
    "    q = get_moments(data)\n",
    "    \n",
    "    # Calculate the image size.\n",
    "    r2 = q[0, 0] + q[1, 1]\n",
    "\n",
    "    # Calculate the numerator\n",
    "    num = (q[0, 0] - q[1, 1] + 2 * np.complex(0, q[0, 1]))\n",
    "    \n",
    "    # Calculate the denominator\n",
    "    den = r2\n",
    "    \n",
    "    if method == 'epsilon':\n",
    "        den += 2 * np.sqrt(q[0, 0] * q[1, 1] - q[0, 1] ** 2)\n",
    "    \n",
    "    # Calculate the ellipticity/polarisation\n",
    "    ellip = num / den\n",
    "\n",
    "    return np.around([ellip.real, ellip.imag], 3)\n",
    "\n",
    "#load toy image and generate noisy image\n",
    "star_clean = np.load('star.npy')\n",
    "n_row,n_col = star_clean.shape\n",
    "star_noisy = np.copy(star_clean)\n",
    "noise_coord = (n_row-3,n_col-3)\n",
    "star_noisy[noise_coord] = 1\n",
    "\n",
    "#estimate ellipticities\n",
    "e_clean = get_ellipticity(star_clean)\n",
    "e_noisy = get_ellipticity(star_noisy)\n",
    "print('Ellipticity  of  the  clean star  image : {:.4f}+i{:.4f}'.format(*e_clean))\n",
    "print('Ellipticity  of  the  noisy star  image : {:.4f}+i{:.4f}'.format(*e_noisy))\n",
    "\n",
    "#compute deviation\n",
    "e_clean_norm = np.linalg.norm(e_clean)\n",
    "e_noisy_norm = np.linalg.norm(e_noisy)\n",
    "deviation = np.abs((e_noisy_norm-e_clean_norm)/e_clean_norm)*100\n",
    "\n",
    "#show image\n",
    "cmap = 'bone'\n",
    "plt.figure(3,figsize=(10,7))\n",
    "plt.subplot(121)\n",
    "plt.imshow(star_clean,cmap=cmap)\n",
    "plt.axis('off')\n",
    "plt.title('Clean star  image')\n",
    "plt.subplot(122)\n",
    "plt.imshow(star_noisy,cmap=cmap)\n",
    "plt.axis('off')\n",
    "plt.title('Noisy star  image')\n",
    "circle = plt.Circle(noise_coord, 2, color='r', lw = 3, fill=False)\n",
    "plt.gcf().gca().add_artist(circle)\n",
    "plt.tight_layout()\n",
    "plt.show()\n",
    "print('The noisy star and the clean star images are binary images.')\n",
    "print('They differ from each other by one pixel on the bottom right of the noisy star image.')\n",
    "print('This pixel induces a difference in ellipticity estimation of : {:.1f}% between the two images'.format(deviation))"
   ]
  },
  {
   "cell_type": "markdown",
   "metadata": {},
   "source": [
    "One way to have more robust measurements is to reduce the weight of the pixels containing only noise in the image before computing the moments. For this purpose we use a weighting window $W$ to define the weighted quadrupole moments of an image as follows:\n",
    "\n",
    "$$\n",
    "    Q_{w,k_1 k_2} = \\frac{\\sum_{x,y} W(x,y) I(x,y) (k_1 - \\bar{k_1})(k_2 - \\bar{k_2})}{\\sum_{x,y} W(x,y) I(x,y)}\n",
    "$$ (weighted_moments)\n",
    "with $k_1,k_2 \\in \\{x,y\\}$.\n",
    "## Weight dependent measures\n",
    "\n",
    "In equation {eq}`weighted_moments` the output varies with $W$ which means that the resulting shape estimation also varies depending on $W$ see example below. Usually the window is chosen to be the best fit of a 2D Gaussian on the galaxy image. The expression of 2D isotropic Gaussian window centered in 0 is :\n",
    "$$\n",
    "W(p) = \\frac{1}{2\\pi} \\exp\\left(-\\frac{\\|p\\|^2}{2}\\right)\n",
    "$$\n",
    "with $p=(x,y)$. Once the centroid, $\\bar{p}=\\left(\\bar{x},\\bar{y}\\right)$ and the scaling factor $\\sigma$ are defined for a specific image, the window is translated and rescaled as :\n",
    "$$\n",
    "W\\left(\\frac{p-\\bar{p}}{\\sigma}\\right) \\quad.\n",
    "$$\n",
    "```{note}\n",
    "In the case of isotropic windows, only the norm of the point considered is required and the value of the window can be noted as $W(\\|p\\|^2)$. \n",
    "```"
   ]
  },
  {
   "cell_type": "code",
   "execution_count": 44,
   "metadata": {},
   "outputs": [
    {
     "data": {
      "image/png": "[encoded data removed]",
      "text/plain": [
       "<Figure size 720x504 with 2 Axes>"
      ]
     },
     "metadata": {
      "needs_background": "light"
     },
     "output_type": "display_data"
    },
    {
     "data": {
      "image/png": "[encoded data removed]",
      "text/plain": [
       "<Figure size 720x504 with 2 Axes>"
      ]
     },
     "metadata": {
      "needs_background": "light"
     },
     "output_type": "display_data"
    }
   ],
   "source": [
    "def draw_gaussian(e1, e2, sigma, x_c, y_c, shape):\n",
    "    \n",
    "    # compute centered grid\n",
    "    ranges = np.array([np.arange(i) for i in shape])\n",
    "    x = np.outer(ranges[0] - x_c, np.ones(shape[1]))\n",
    "    y = np.outer(np.ones(shape[0]),ranges[1] - y_c)\n",
    "    \n",
    "    # shift it to match centroid\n",
    "    x1 = (1-e1/2)*x - e2/2*y\n",
    "    y1 = (1+e1/2)*y - e2/2*x\n",
    "    \n",
    "    # compute elliptical gaussian\n",
    "    return np.exp(-(x1 ** 2 + y1 ** 2) / (2 * sigma))\n",
    "\n",
    "w50 = draw_gaussian(0,0,50,48,58, (96,96))\n",
    "w80 = draw_gaussian(0,0,80,48,58, (96,96))\n",
    "\n",
    "plt.figure(4,figsize=(10,7))\n",
    "plt.subplot(121)\n",
    "plt.imshow(w50,cmap=cmap)\n",
    "plt.axis('off')\n",
    "plt.title('Small Gaussian Window')\n",
    "plt.subplot(122)\n",
    "plt.imshow(w40*star_noisy,cmap=cmap)\n",
    "plt.axis('off')\n",
    "plt.title('Windowed Star Image')\n",
    "plt.tight_layout()\n",
    "plt.show()\n",
    "\n",
    "plt.figure(5,figsize=(10,7))\n",
    "plt.subplot(121)\n",
    "plt.imshow(w80,cmap=cmap)\n",
    "plt.axis('off')\n",
    "plt.title('Big Gaussian Window')\n",
    "plt.subplot(122)\n",
    "plt.imshow(w80*star_noisy,cmap=cmap)\n",
    "plt.axis('off')\n",
    "plt.title('Windowed Star Image')\n",
    "plt.tight_layout()\n",
    "plt.show()"
   ]
  },
  {
   "cell_type": "code",
   "execution_count": 48,
   "metadata": {},
   "outputs": [
    {
     "name": "stdout",
     "output_type": "stream",
     "text": [
      "Ellipticity  of  the star  image with a small window: -0.0080+i0.0810\n",
      "Ellipticity  of  the star  image with a large window: -0.0070+i0.1150\n",
      "The choice of the window induces a difference in ellipticity estimation of : 29.4% between the two images\n"
     ]
    }
   ],
   "source": [
    "#estimate ellipticities\n",
    "e_w0 = get_ellipticity(w50*star_noisy)\n",
    "e_w80 = get_ellipticity(w80*star_noisy)\n",
    "print('Ellipticity  of  the star  image with a small window: {:.4f}+i{:.4f}'.format(*e_w50))\n",
    "print('Ellipticity  of  the star  image with a large window: {:.4f}+i{:.4f}'.format(*e_w80))\n",
    "\n",
    "#compute deviation\n",
    "e_w50_norm = np.linalg.norm(e_w50)\n",
    "e_w80_norm = np.linalg.norm(e_w80)\n",
    "deviation_w = np.abs((e_w50_norm-e_w80_norm)/e_w80_norm)*100\n",
    "print('The choice of the window induces a difference in ellipticity estimation of : {:.1f}% between the two images'.format(deviation_w))"
   ]
  },
  {
   "cell_type": "markdown",
   "metadata": {},
   "source": [
    "The bias induced by the weighting window can be corrected, for more details see [MOMENT BASED METHOD] section."
   ]
  }
 ],
 "metadata": {
  "kernelspec": {
   "display_name": "Python 3",
   "language": "python",
   "name": "python3"
  },
  "language_info": {
   "codemirror_mode": {
    "name": "ipython",
    "version": 3
   },
   "file_extension": ".py",
   "mimetype": "text/x-python",
   "name": "python",
   "nbconvert_exporter": "python",
   "pygments_lexer": "ipython3",
   "version": "3.8.6"
  }
 },
 "nbformat": 4,
 "nbformat_minor": 4
}
