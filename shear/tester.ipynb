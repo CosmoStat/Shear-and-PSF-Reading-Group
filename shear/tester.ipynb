{
 "cells": [
  {
   "cell_type": "markdown",
   "metadata": {},
   "source": [
    "# Test Thebe"
   ]
  },
  {
   "cell_type": "code",
   "execution_count": 1,
   "metadata": {},
   "outputs": [
    {
     "name": "stdout",
     "output_type": "stream",
     "text": [
      "/Users/farrens/Documents/Codes/github/Shear-and-PSF-Reading-Group/shear\n",
      "\n",
      "['markdown.md', 'plot.py', 'requirements.txt', 'content.md', 'references.bib', 'intro.md', 'notebooks.ipynb', '__pycache__', 'moments.ipynb', '_toc.yml', 'logo.png', 'tester.ipynb', '_build', '_config.yml', '.ipynb_checkpoints', 'data.py']\n"
     ]
    }
   ],
   "source": [
    "import os\n",
    "\n",
    "print(os.getcwd())\n",
    "print()\n",
    "print(os.listdir())"
   ]
  },
  {
   "cell_type": "code",
   "execution_count": 2,
   "metadata": {},
   "outputs": [],
   "source": [
    "import plot"
   ]
  },
  {
   "cell_type": "code",
   "execution_count": 3,
   "metadata": {},
   "outputs": [
    {
     "name": "stdout",
     "output_type": "stream",
     "text": [
      "Package                           Version\r\n",
      "--------------------------------- -------------------\r\n",
      "alabaster                         0.7.12\r\n",
      "appnope                           0.1.0\r\n",
      "argon2-cffi                       20.1.0\r\n",
      "async-generator                   1.10\r\n",
      "attrs                             20.2.0\r\n",
      "Babel                             2.8.0\r\n",
      "backcall                          0.2.0\r\n",
      "backports.functools-lru-cache     1.6.1\r\n",
      "beautifulsoup4                    4.9.1\r\n",
      "bleach                            3.1.5\r\n",
      "certifi                           2020.6.20\r\n",
      "cffi                              1.14.1\r\n",
      "chardet                           3.0.4\r\n",
      "click                             7.1.2\r\n",
      "colorama                          0.4.3\r\n",
      "cycler                            0.10.0\r\n",
      "decorator                         4.4.2\r\n",
      "defusedxml                        0.6.0\r\n",
      "docutils                          0.16\r\n",
      "entrypoints                       0.3\r\n",
      "future                            0.18.2\r\n",
      "gitdb                             4.0.5\r\n",
      "GitPython                         3.1.8\r\n",
      "idna                              2.10\r\n",
      "imagesize                         1.2.0\r\n",
      "importlib-metadata                1.7.0\r\n",
      "ipykernel                         5.3.4\r\n",
      "ipython                           7.18.1\r\n",
      "ipython-genutils                  0.2.0\r\n",
      "ipywidgets                        7.5.1\r\n",
      "jedi                              0.15.2\r\n",
      "Jinja2                            2.11.2\r\n",
      "jsonschema                        3.2.0\r\n",
      "jupyter-book                      0.8.2\r\n",
      "jupyter-cache                     0.4.1\r\n",
      "jupyter-client                    6.1.7\r\n",
      "jupyter-console                   6.2.0\r\n",
      "jupyter-contrib-core              0.3.3\r\n",
      "jupyter-contrib-nbextensions      0.5.1\r\n",
      "jupyter-core                      4.6.3\r\n",
      "jupyter-highlight-selected-word   0.2.0\r\n",
      "jupyter-latex-envs                1.4.4\r\n",
      "jupyter-nbextensions-configurator 0.4.1\r\n",
      "jupyter-sphinx                    0.3.2\r\n",
      "jupyterlab-pygments               0.1.1\r\n",
      "kiwisolver                        1.2.0\r\n",
      "latexcodec                        2.0.1\r\n",
      "libsass                           0.20.1\r\n",
      "lxml                              4.5.2\r\n",
      "markdown-it-py                    0.5.4\r\n",
      "MarkupSafe                        1.1.1\r\n",
      "matplotlib                        3.3.2\r\n",
      "mistune                           0.8.4\r\n",
      "modopt                            1.4.4\r\n",
      "myst-nb                           0.10.1\r\n",
      "myst-parser                       0.12.10\r\n",
      "nbclient                          0.5.0\r\n",
      "nbconvert                         5.6.1\r\n",
      "nbdime                            2.0.0\r\n",
      "nbformat                          5.0.7\r\n",
      "nest-asyncio                      1.4.0\r\n",
      "notebook                          6.1.4\r\n",
      "numpy                             1.19.2\r\n",
      "oset                              0.1.3\r\n",
      "packaging                         20.4\r\n",
      "pandocfilters                     1.4.2\r\n",
      "parso                             0.5.2\r\n",
      "pexpect                           4.8.0\r\n",
      "pickleshare                       0.7.5\r\n",
      "Pillow                            7.2.0\r\n",
      "pip                               20.2.3\r\n",
      "progressbar2                      3.53.1\r\n",
      "prometheus-client                 0.8.0\r\n",
      "prompt-toolkit                    3.0.7\r\n",
      "ptyprocess                        0.6.0\r\n",
      "pybtex                            0.22.2\r\n",
      "pybtex-docutils                   0.2.2\r\n",
      "pycparser                         2.20\r\n",
      "pydata-sphinx-theme               0.3.2\r\n",
      "Pygments                          2.7.0\r\n",
      "pyparsing                         2.4.7\r\n",
      "PyQt5                             5.12.3\r\n",
      "PyQt5-sip                         4.19.18\r\n",
      "PyQtChart                         5.12\r\n",
      "PyQtWebEngine                     5.12.1\r\n",
      "pyrsistent                        0.17.3\r\n",
      "python-dateutil                   2.8.1\r\n",
      "python-utils                      2.4.0\r\n",
      "pytz                              2020.1\r\n",
      "PyYAML                            5.3.1\r\n",
      "pyzmq                             19.0.2\r\n",
      "qtconsole                         4.7.7\r\n",
      "QtPy                              1.9.0\r\n",
      "requests                          2.24.0\r\n",
      "scipy                             1.5.2\r\n",
      "Send2Trash                        1.5.0\r\n",
      "setuptools                        49.6.0.post20200814\r\n",
      "sf-tools                          2.0.4\r\n",
      "six                               1.15.0\r\n",
      "smmap                             3.0.4\r\n",
      "snowballstemmer                   2.0.0\r\n",
      "soupsieve                         2.0.1\r\n",
      "Sphinx                            3.2.1\r\n",
      "sphinx-book-theme                 0.0.36\r\n",
      "sphinx-comments                   0.0.3\r\n",
      "sphinx-copybutton                 0.3.0\r\n",
      "sphinx-panels                     0.5.1\r\n",
      "sphinx-thebe                      0.0.7\r\n",
      "sphinx-togglebutton               0.2.2\r\n",
      "sphinxcontrib-applehelp           1.0.2\r\n",
      "sphinxcontrib-bibtex              1.0.0\r\n",
      "sphinxcontrib-devhelp             1.0.2\r\n",
      "sphinxcontrib-htmlhelp            1.0.3\r\n",
      "sphinxcontrib-jsmath              1.0.1\r\n",
      "sphinxcontrib-qthelp              1.0.3\r\n",
      "sphinxcontrib-serializinghtml     1.1.4\r\n",
      "SQLAlchemy                        1.3.19\r\n",
      "terminado                         0.8.3\r\n",
      "testpath                          0.4.4\r\n",
      "tornado                           6.0.4\r\n",
      "traitlets                         5.0.4\r\n",
      "urllib3                           1.25.10\r\n",
      "wcwidth                           0.2.5\r\n",
      "webencodings                      0.5.1\r\n",
      "wheel                             0.35.1\r\n",
      "widgetsnbextension                3.5.1\r\n",
      "zipp                              3.1.0\r\n"
     ]
    }
   ],
   "source": [
    "!pip list"
   ]
  }
 ],
 "metadata": {
  "kernelspec": {
   "display_name": "Python 3",
   "language": "python",
   "name": "python3"
  },
  "language_info": {
   "codemirror_mode": {
    "name": "ipython",
    "version": 3
   },
   "file_extension": ".py",
   "mimetype": "text/x-python",
   "name": "python",
   "nbconvert_exporter": "python",
   "pygments_lexer": "ipython3",
   "version": "3.8.5"
  }
 },
 "nbformat": 4,
 "nbformat_minor": 4
}
