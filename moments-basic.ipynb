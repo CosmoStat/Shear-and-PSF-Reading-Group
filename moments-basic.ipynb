{
 "cells": [
  {
   "cell_type": "markdown",
   "metadata": {},
   "source": [
    "# Moments Basics\n",
    "\n",
    "In this section we will take a look at the basics of using moments to measure shapes.\n"
   ]
  },
  {
   "cell_type": "markdown",
   "metadata": {},
   "source": [
    "```{note}\n",
    "Try out the interactive version of this notebook on Binder!\n",
    "```"
   ]
  },
  {
   "cell_type": "code",
   "execution_count": 1,
   "metadata": {
    "tags": [
     "hide-input"
    ]
   },
   "outputs": [
    {
     "data": {
      "text/markdown": [
       "<a href=\"https://mybinder.org/v2/gh/sfarrens/Shear-and-PSF-Reading-Group/book/?urlpath=tree/moments_interact.ipynb\" target=\"_blank\"><img src=\"https://img.shields.io/badge/launch-binder-579aca.svg?logo=data:image/png;base64,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\"></a>"
      ],
      "text/plain": [
       "<IPython.core.display.Markdown object>"
      ]
     },
     "execution_count": 1,
     "metadata": {},
     "output_type": "execute_result"
    }
   ],
   "source": [
    "import numpy as np\n",
    "from plot import *\n",
    "from data import * \n",
    "from IPython.display import Markdown as md\n",
    "from interact import get_url, binder_badge\n",
    "\n",
    "url = get_url('moments')\n",
    "md('<a href=\"{}\" target=\"_blank\"><img src=\"{}\"></a>'.format(get_url('moments'), binder_badge))"
   ]
  },
  {
   "cell_type": "markdown",
   "metadata": {},
   "source": [
    "## Example Data\n",
    "\n",
    "Let's begin by looking at some dummy images with properties we can easily discern by eye. We will use the `data_dict` imported from `data.py` (see [appendix](content:appendix)) and print the available keys."
   ]
  },
  {
   "cell_type": "code",
   "execution_count": 2,
   "metadata": {},
   "outputs": [
    {
     "name": "stdout",
     "output_type": "stream",
     "text": [
      "Horizontal Line\n",
      "Vertical Line\n",
      "Diagonal Line (Up)\n",
      "Diagonal Line (Down)\n",
      "Circle\n",
      "Circle (Off-Centre)\n"
     ]
    }
   ],
   "source": [
    "for key in data_dict.keys():\n",
    "    print(key)"
   ]
  },
  {
   "cell_type": "markdown",
   "metadata": {},
   "source": [
    "Now we can examime the content of the matrices that define the images."
   ]
  },
  {
   "cell_type": "code",
   "execution_count": 3,
   "metadata": {},
   "outputs": [
    {
     "name": "stdout",
     "output_type": "stream",
     "text": [
      "[[0. 0. 0. 0. 0.]\n",
      " [0. 1. 0. 0. 0.]\n",
      " [0. 0. 1. 0. 0.]\n",
      " [0. 0. 0. 1. 0.]\n",
      " [0. 0. 0. 0. 0.]]\n"
     ]
    }
   ],
   "source": [
    "data_name = 'Diagonal Line (Down)'\n",
    "print(data_dict[data_name])"
   ]
  },
  {
   "cell_type": "markdown",
   "metadata": {},
   "source": [
    "```{admonition} Hint\n",
    ":class: tip\n",
    "Try changing `data_name` to one of the other possible dictionary keys to compare the matrices.\n",
    "```\n",
    "\n",
    "What you should notice is that we have a collection of (very unrealistic) images with a range of orientions and ellipticities. We can use these images to verify in the following sections that we fully understand how to measure the shape of an object using moments."
   ]
  },
  {
   "cell_type": "markdown",
   "metadata": {},
   "source": [
    "## Image Flux Density\n",
    "\n",
    "We can define the flux density or surface brightness, $I$, of an object as the amount of light (*i.e.* flux) per square arcsecond on the sky. $I(x, y)$ gives the flux density at position $x, y$, which we can relate to a given pixel. To measure the full surface brightness of an object we need to intragte acoss the whole image\n",
    "\n",
    "$$F = \\int I(x,y) dx dy$$ (total_flux)\n",
    "\n",
    "or for a discrete set of pixels sum the values of $I(x, y)$.\n",
    "\n",
    "$$F = \\sum_{x,y} I(x,y)$$ (total_flux_discrete)\n",
    "\n",
    "Let's "
   ]
  },
  {
   "cell_type": "code",
   "execution_count": 4,
   "metadata": {},
   "outputs": [
    {
     "name": "stdout",
     "output_type": "stream",
     "text": [
      "F = 3.0\n"
     ]
    }
   ],
   "source": [
    "print('F = {}'.format(np.sum(data_dict['Horizontal Line'])))"
   ]
  },
  {
   "cell_type": "markdown",
   "metadata": {},
   "source": [
    "## Centroid\n",
    "\n",
    "Now that we have established what the surface brightness is we can use it identfy the first moment or centroid $(\\bar{x}, \\bar{y})$ of a given image.\n",
    "\n",
    "$$\n",
    "    \\bar{x} = \\frac{\\sum_{x,y} xI(x,y)}{\\sum_{x,y} I(x,y)}\n",
    "$$ (centroid_x)\n",
    "\n",
    "$$\n",
    "    \\bar{y} = \\frac{\\sum_{x,y} yI(x,y)}{\\sum_{x,y} I(x,y)}\n",
    "$$ (centroid_y)\n",
    "\n",
    "\n",
    "The following cell provides a simple implementation of equations {eq}`centroid_x` and {eq}`centroid_y`."
   ]
  },
  {
   "cell_type": "code",
   "execution_count": 5,
   "metadata": {},
   "outputs": [],
   "source": [
    "def get_centroid(data):\n",
    "    \n",
    "    # Sum flux over x and y individually\n",
    "    sum_i = np.array([np.sum(data, axis=i) for i in (1, 0)])\n",
    "    \n",
    "    # Get range of x and y values\n",
    "    ranges = np.array([np.arange(i) for i in data.shape])\n",
    "    \n",
    "    # Calculate centroids\n",
    "    cents = np.sum(sum_i * ranges, axis=1) / np.sum(data)\n",
    "    \n",
    "    return cents.astype(int)"
   ]
  },
  {
   "cell_type": "markdown",
   "metadata": {},
   "source": [
    "Now let's test that our function works on the example data."
   ]
  },
  {
   "cell_type": "code",
   "execution_count": 6,
   "metadata": {},
   "outputs": [],
   "source": [
    "def show_centroid(data_name):\n",
    "    \n",
    "    data = data_dict[data_name]\n",
    "    centroid = get_centroid(data)\n",
    "    \n",
    "    show_image(data, centroid=centroid)"
   ]
  },
  {
   "cell_type": "code",
   "execution_count": 7,
   "metadata": {},
   "outputs": [
    {
     "data": {
      "image/png": "[encoded data removed]",
      "text/plain": [
       "<Figure size 432x288 with 1 Axes>"
      ]
     },
     "metadata": {
      "needs_background": "light"
     },
     "output_type": "display_data"
    }
   ],
   "source": [
    "show_centroid('Circle (Off-Centre)')"
   ]
  },
  {
   "cell_type": "markdown",
   "metadata": {},
   "source": [
    "We can see that, regardless of the position of the image within the postage stamp, the centroid (highlighted with a red x) is always correctly determined."
   ]
  },
  {
   "cell_type": "markdown",
   "metadata": {},
   "source": [
    "## Moments\n",
    "\n",
    "Finally, we can define the second moment or quadrupole moments of an image as follows.\n",
    "\n",
    "$$\n",
    "    Q_{xy} = \\frac{\\sum_{x,y} I(x,y)(x - \\bar{x})(y - \\bar{y})}{\\sum_{x,y} I(x,y)}\n",
    "$$ (moments)\n",
    "\n",
    "Equation {eq}`moments` is used to determine object shapes. In the following cell we a simple implementation of this equation."
   ]
  },
  {
   "cell_type": "code",
   "execution_count": 8,
   "metadata": {},
   "outputs": [],
   "source": [
    "def get_moments(data):\n",
    "    \n",
    "    centroid = get_centroid(data)\n",
    "    ranges = np.array([np.arange(i) for i in data.shape])\n",
    "    \n",
    "    x = np.outer(ranges[0] - centroid[0], np.ones(data.shape[1]))\n",
    "    y = np.outer(np.ones(data.shape[0]), ranges[1] - centroid[1])\n",
    "    \n",
    "    q = np.array([np.sum(data * xi * xj) for xi in (x, y) for xj in (x, y)])\n",
    "    q = (q / np.sum(data)).reshape(2, 2).astype('complex')\n",
    "    \n",
    "    return q"
   ]
  },
  {
   "cell_type": "markdown",
   "metadata": {},
   "source": [
    "We can examine the output of this function for the various example images."
   ]
  },
  {
   "cell_type": "code",
   "execution_count": 9,
   "metadata": {},
   "outputs": [
    {
     "name": "stdout",
     "output_type": "stream",
     "text": [
      "[[0.66666667+0.j 0.        +0.j]\n",
      " [0.        +0.j 0.        +0.j]]\n"
     ]
    }
   ],
   "source": [
    "print(get_moments(data_dict['Vertical Line']))"
   ]
  },
  {
   "cell_type": "markdown",
   "metadata": {},
   "source": [
    "While it is clear that the moments are different for each image, it can be difficult to interpret these numbers."
   ]
  },
  {
   "cell_type": "markdown",
   "metadata": {},
   "source": [
    "## Measures of Ellipticity\n",
    "\n",
    "It is convenient to convert these moments into a measure of the object's *ellipticity*, however this can be done in various ways.\n",
    "\n",
    "### Polarisation\n",
    "\n",
    "This is the standard convetion used by methods such as KSB and is often denoted by the greek letter $\\chi$.\n",
    "\n",
    "$$\n",
    "    \\chi = \\frac{Q_{00}-Q_{11}+2iQ_{01}}{Q_{00}+Q_{11}}\n",
    "$$ (chi)\n",
    "\n",
    "### Ellipticity\n",
    "\n",
    "This is an alternative convention that... and is often denoted by the greek letter $\\epsilon$.\n",
    "\n",
    "$$\n",
    "    \\epsilon = \\frac{Q_{00}-Q_{11}+2iQ_{01}}{Q_{00}+Q_{11}+2\\sqrt{Q_{00}Q_{11}-Q_{01}^2}}\n",
    "$$ (epsilon)\n",
    "\n",
    "```{note}\n",
    "We have adopted the convention of labeling $Q_{x, y}$ starting from $x, y$ = 0 to keep the equations consistent with the code.\n",
    "```\n",
    "\n",
    "The following cell provides a simple implementation of both {eq}`chi` and {eq}`epsilon`."
   ]
  },
  {
   "cell_type": "code",
   "execution_count": 10,
   "metadata": {},
   "outputs": [],
   "source": [
    "def get_ellipticity(data, method='chi'):\n",
    "    \n",
    "    # Calculate moments\n",
    "    q = get_moments(data)\n",
    "    \n",
    "    # Calculate the image size.\n",
    "    r2 = q[0, 0] + q[1, 1]\n",
    "\n",
    "    # Calculate the numerator\n",
    "    num = (q[0, 0] - q[1, 1] + 2 * np.complex(0, q[0, 1]))\n",
    "    \n",
    "    # Calculate the denominator\n",
    "    den = r2\n",
    "    \n",
    "    if method == 'epsilon':\n",
    "        den += 2 * np.sqrt(q[0, 0] * q[1, 1] - q[0, 1] ** 2)\n",
    "    \n",
    "    # Calculate the ellipticity/polarisation\n",
    "    ellip = num / den\n",
    "\n",
    "    return np.around([ellip.real, ellip.imag], 3)"
   ]
  },
  {
   "cell_type": "markdown",
   "metadata": {},
   "source": [
    "The ellipticity makes it a bit easier to interpret the properties of the example images."
   ]
  },
  {
   "cell_type": "code",
   "execution_count": 11,
   "metadata": {},
   "outputs": [],
   "source": [
    "def show_ellipticity(data_name):\n",
    "    \n",
    "    data = data_dict[data_name]\n",
    "    centroid = get_centroid(data)\n",
    "    chi = get_ellipticity(data)\n",
    "    epsilon = get_ellipticity(data, method='epsilon')\n",
    "    \n",
    "    show_image(data, centroid=centroid, chi=chi, epsilon=epsilon)"
   ]
  },
  {
   "cell_type": "code",
   "execution_count": 12,
   "metadata": {},
   "outputs": [
    {
     "data": {
      "image/png": "[encoded data removed]",
      "text/plain": [
       "<Figure size 432x288 with 1 Axes>"
      ]
     },
     "metadata": {
      "needs_background": "light"
     },
     "output_type": "display_data"
    }
   ],
   "source": [
    "show_ellipticity('Diagonal Line (Up)')"
   ]
  },
  {
   "cell_type": "markdown",
   "metadata": {},
   "source": [
    "### Semi-Major/Minor Axes\n",
    "\n",
    "It is also possible to relate the quadrupole moments to more traditional measures of ellipticity, namely the semi-major axis ($a$), semi-minor axis ($b$) and angle ($\\theta$)."
   ]
  },
  {
   "cell_type": "markdown",
   "metadata": {},
   "source": [
    "$$\n",
    "    a^2 = \\frac{Q_{00}+Q_{11}+\\sqrt{(Q_{00}-Q_{11})^2 + 4Q_{01}^2}}{2}\n",
    "$$ (semi-major)\n",
    "\n",
    "$$\n",
    "    b^2 = \\frac{Q_{00}+Q_{11}-\\sqrt{(Q_{00}-Q_{11})^2 + 4Q_{01}^2}}{2}\n",
    "$$ (semi-minor)\n",
    "\n",
    "$$\n",
    "\\begin{equation}\n",
    "\t\\theta = \n",
    "\t\\begin{cases} \n",
    "        \\frac{\\pi}{4} & \\text{if}~ Q_{00}-Q_{11} = 0 \\\\\n",
    "        \\frac{1}{2}\\arctan(\\frac{2Q_{01}}{Q_{00}-Q_{11}}) & \\text{if}~ Q_{00}-Q_{11} \\neq 0 \\\\ \n",
    "\t\t\\frac{1}{2}\\arctan(\\frac{2Q_{01}}{Q_{00}-Q_{11}}) + \\frac{\\pi}{2} & \\text{if}~ Q_{00}-Q_{11} > 0 ~ \\text{and} ~  Q_{01}, Q_{10} = 0 \\\\ \n",
    "        \\frac{1}{2}\\arctan(\\frac{2Q_{01}}{Q_{00}-Q_{11}}) - \\frac{\\pi}{2}\\text{sign}(Q_{01}) & \\text{if}~ Q_{00}-Q_{11} > 0 ~ \\text{and} ~  Q_{01}, Q_{10} \\neq 0 \\\\ \n",
    "\t\\end{cases}\n",
    "\t\\label{eq:soft}\n",
    "\\end{equation}\n",
    "$$ (rotation-angle)\n",
    "\n",
    "The following cell implements equations {eq}`semi-major`, {eq}`semi-minor` and {eq}`rotation-angle`."
   ]
  },
  {
   "cell_type": "code",
   "execution_count": 13,
   "metadata": {},
   "outputs": [],
   "source": [
    "def get_abt(data):\n",
    "    \n",
    "    q = get_moments(data)\n",
    "    \n",
    "    qq_plus = q[0, 0] + q[1, 1]\n",
    "    qq_minus = q[0, 0] - q[1, 1]\n",
    "    root = np.sqrt(qq_minus ** 2 + 4 * q[0, 1] ** 2)\n",
    "    \n",
    "    a = np.around(np.real(np.sqrt(0.5 * (qq_plus + root))), 3)\n",
    "    b = np.around(np.real(np.sqrt(0.5 * (qq_plus - root))), 3)\n",
    "    if qq_minus == 0.0:\n",
    "        theta = -45.0 * np.sign(np.real(q[0, 1]))\n",
    "    else:\n",
    "        theta = np.around(np.real(0.5 * np.arctan(2 * q[0, 1] / qq_minus)) * 180. / np.pi, 3)\n",
    "        \n",
    "    if qq_minus > 0.0 and q[0, 1] == 0.0:\n",
    "        theta += 90.0\n",
    "    elif qq_minus > 0.0:\n",
    "        theta -= 90.0 * np.sign(np.real(q[0, 1]))\n",
    "    \n",
    "    return a, b, theta"
   ]
  },
  {
   "cell_type": "markdown",
   "metadata": {},
   "source": [
    "We can test the accuracy of this implementation by generating some images where we define the properties of the ellipse and seeing if we can recover the correct model from the moments."
   ]
  },
  {
   "cell_type": "code",
   "execution_count": 14,
   "metadata": {},
   "outputs": [],
   "source": [
    "def show_ellipse(a, b, theta):\n",
    "    \n",
    "    data = make_ellipse(a, b, theta)\n",
    "    centroid = get_centroid(data)\n",
    "    chi = get_ellipticity(data)\n",
    "    epsilon = get_ellipticity(data, method='epsilon')\n",
    "    abt = get_abt(data)\n",
    "    \n",
    "    show_image(data, centroid=centroid, chi=chi, epsilon=epsilon, abt=abt)"
   ]
  },
  {
   "cell_type": "code",
   "execution_count": 15,
   "metadata": {},
   "outputs": [
    {
     "data": {
      "image/png": "[encoded data removed]",
      "text/plain": [
       "<Figure size 432x288 with 1 Axes>"
      ]
     },
     "metadata": {
      "needs_background": "light"
     },
     "output_type": "display_data"
    }
   ],
   "source": [
    "show_ellipse(a=5, b=1, theta=15)"
   ]
  },
  {
   "cell_type": "markdown",
   "metadata": {},
   "source": [
    "```{note}\n",
    "Refer to the [appendix](content:appendix) to see how the input images are produced.\n",
    "```"
   ]
  }
 ],
 "metadata": {
  "celltoolbar": "Edit Metadata",
  "kernelspec": {
   "display_name": "Python 3",
   "language": "python",
   "name": "python3"
  },
  "language_info": {
   "codemirror_mode": {
    "name": "ipython",
    "version": 3
   },
   "file_extension": ".py",
   "mimetype": "text/x-python",
   "name": "python",
   "nbconvert_exporter": "python",
   "pygments_lexer": "ipython3",
   "version": "3.8.5"
  },
  "toc": {
   "base_numbering": 1,
   "nav_menu": {},
   "number_sections": true,
   "sideBar": true,
   "skip_h1_title": false,
   "title_cell": "Table of Contents",
   "title_sidebar": "Contents",
   "toc_cell": false,
   "toc_position": {},
   "toc_section_display": true,
   "toc_window_display": false
  }
 },
 "nbformat": 4,
 "nbformat_minor": 4
}
