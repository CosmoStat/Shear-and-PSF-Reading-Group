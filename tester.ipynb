{
 "cells": [
  {
   "cell_type": "markdown",
   "metadata": {},
   "source": [
    "# Test Thebe"
   ]
  },
  {
   "cell_type": "code",
   "execution_count": 1,
   "metadata": {},
   "outputs": [],
   "source": [
    "import os\n",
    "\n",
    "print(os.getcwd())\n",
    "print()\n",
    "print(os.listdir())"
   ]
  },
  {
   "cell_type": "code",
   "execution_count": 2,
   "metadata": {},
   "outputs": [],
   "source": [
    "from pathlib import Path"
   ]
  },
  {
   "cell_type": "code",
   "execution_count": 10,
   "metadata": {},
   "outputs": [
    {
     "data": {
      "text/plain": [
       "'_build/html/content.html'"
      ]
     },
     "execution_count": 10,
     "metadata": {},
     "output_type": "execute_result"
    }
   ],
   "source": [
    "str(Path('_build/html/content.html'))"
   ]
  },
  {
   "cell_type": "code",
   "execution_count": 4,
   "metadata": {},
   "outputs": [],
   "source": [
    "import plot"
   ]
  },
  {
   "cell_type": "code",
   "execution_count": 5,
   "metadata": {},
   "outputs": [
    {
     "name": "stdout",
     "output_type": "stream",
     "text": [
      "Package            Version\r\n",
      "------------------ -------------------\r\n",
      "appnope            0.1.0\r\n",
      "attrs              19.3.0\r\n",
      "backcall           0.2.0\r\n",
      "bleach             3.1.5\r\n",
      "blessings          1.7\r\n",
      "bpython            0.19\r\n",
      "certifi            2020.6.20\r\n",
      "chardet            3.0.4\r\n",
      "curtsies           0.3.4\r\n",
      "cycler             0.10.0\r\n",
      "decorator          4.4.2\r\n",
      "defusedxml         0.6.0\r\n",
      "entrypoints        0.3\r\n",
      "greenlet           0.4.16\r\n",
      "idna               2.10\r\n",
      "importlib-metadata 1.7.0\r\n",
      "ipykernel          5.3.4\r\n",
      "ipython            7.16.1\r\n",
      "ipython-genutils   0.2.0\r\n",
      "ipywidgets         7.5.1\r\n",
      "jedi               0.17.2\r\n",
      "Jinja2             2.11.2\r\n",
      "jsonschema         3.2.0\r\n",
      "jupyter            1.0.0\r\n",
      "jupyter-client     6.1.6\r\n",
      "jupyter-console    6.1.0\r\n",
      "jupyter-core       4.6.3\r\n",
      "kiwisolver         1.2.0\r\n",
      "MarkupSafe         1.1.1\r\n",
      "matplotlib         3.2.2\r\n",
      "mistune            0.8.4\r\n",
      "mkl-fft            1.1.0\r\n",
      "mkl-random         1.1.1\r\n",
      "mkl-service        2.3.0\r\n",
      "nbconvert          5.6.1\r\n",
      "nbformat           5.0.7\r\n",
      "notebook           6.0.3\r\n",
      "numpy              1.19.1\r\n",
      "packaging          20.4\r\n",
      "pandas             1.0.5\r\n",
      "pandocfilters      1.4.2\r\n",
      "parso              0.7.0\r\n",
      "pexpect            4.8.0\r\n",
      "pickleshare        0.7.5\r\n",
      "pip                20.1.1\r\n",
      "prometheus-client  0.8.0\r\n",
      "prompt-toolkit     3.0.5\r\n",
      "ptyprocess         0.6.0\r\n",
      "pybind11           2.5.0\r\n",
      "Pygments           2.6.1\r\n",
      "pyparsing          2.4.7\r\n",
      "pyrsistent         0.16.0\r\n",
      "python-dateutil    2.8.1\r\n",
      "pytz               2020.1\r\n",
      "pyzmq              19.0.1\r\n",
      "qtconsole          4.7.5\r\n",
      "QtPy               1.9.0\r\n",
      "requests           2.24.0\r\n",
      "scipy              1.5.0\r\n",
      "seaborn            0.10.1\r\n",
      "Send2Trash         1.5.0\r\n",
      "setuptools         49.2.0.post20200714\r\n",
      "six                1.15.0\r\n",
      "terminado          0.8.3\r\n",
      "testpath           0.4.4\r\n",
      "tornado            6.0.4\r\n",
      "traitlets          4.3.3\r\n",
      "urllib3            1.25.10\r\n",
      "wcwidth            0.2.5\r\n",
      "webencodings       0.5.1\r\n",
      "wheel              0.34.2\r\n",
      "widgetsnbextension 3.5.1\r\n",
      "zipp               3.1.0\r\n"
     ]
    }
   ],
   "source": [
    "!pip list"
   ]
  }
 ],
 "metadata": {
  "kernelspec": {
   "display_name": "Python 3",
   "language": "python",
   "name": "python3"
  },
  "language_info": {
   "codemirror_mode": {
    "name": "ipython",
    "version": 3
   },
   "file_extension": ".py",
   "mimetype": "text/x-python",
   "name": "python",
   "nbconvert_exporter": "python",
   "pygments_lexer": "ipython3",
   "version": "3.8.3"
  }
 },
 "nbformat": 4,
 "nbformat_minor": 4
}
