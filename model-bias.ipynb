{
 "cells": [
  {
   "cell_type": "markdown",
   "metadata": {},
   "source": [
    "# Model Bias\n",
    "\n",
    "In this section we will look into the concept of model bias."
   ]
  },
  {
   "cell_type": "markdown",
   "metadata": {},
   "source": [
    "## Definition\n",
    "\n",
    "Model bias is a source of bias in shape estimation for model fitting methods. Model bias arises when the true shape of the galaxy in question is not sufficiently well represneted by the fitted model. In other words, real galaxy morphologies are often more complicated than the models used to fit them.\n",
    "\n",
    "```{note}\n",
    "Model bias is also refferred to as *underfitting bias*.\n",
    "```"
   ]
  },
  {
   "cell_type": "markdown",
   "metadata": {},
   "source": [
    "## Measuring Model Bias\n",
    "\n",
    "To isolate the effects of model bias one needs to know the true underlying model of a galaxy image and then to attempt to fit various differnt models to this image. {cite}`2014MNRAS.441.2528K`, for example, modelled a \"true\" galaxy as  a single Sérsic profile with a given index $n$ then fit profiles with various different Sérsic indices to demonstrate the impact on ellipticity values."
   ]
  },
  {
   "cell_type": "markdown",
   "metadata": {},
   "source": [
    "## Impact of Model Bias\n",
    "\n",
    "{cite}`2014MNRAS.441.2528K` claim that, while model bias can be quite variable, it averages to a small value."
   ]
  },
  {
   "cell_type": "markdown",
   "metadata": {},
   "source": [
    "## Correcting for Model Bias"
   ]
  },
  {
   "cell_type": "code",
   "execution_count": null,
   "metadata": {},
   "outputs": [],
   "source": []
  }
 ],
 "metadata": {
  "kernelspec": {
   "display_name": "Python 3",
   "language": "python",
   "name": "python3"
  },
  "language_info": {
   "codemirror_mode": {
    "name": "ipython",
    "version": 3
   },
   "file_extension": ".py",
   "mimetype": "text/x-python",
   "name": "python",
   "nbconvert_exporter": "python",
   "pygments_lexer": "ipython3",
   "version": "3.8.5"
  }
 },
 "nbformat": 4,
 "nbformat_minor": 4
}
