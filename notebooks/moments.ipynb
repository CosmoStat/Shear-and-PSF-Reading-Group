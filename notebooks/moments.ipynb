{
 "cells": [
  {
   "cell_type": "markdown",
   "metadata": {},
   "source": [
    "# Moments Basics\n",
    "\n",
    "In this section we will take a look at the basics of moment based methods for measuring galaxy shapes.\n"
   ]
  },
  {
   "cell_type": "code",
   "execution_count": 1,
   "metadata": {},
   "outputs": [],
   "source": [
    "import numpy as np\n",
    "from shrbk.plot import *\n",
    "from shrbk.data import * "
   ]
  },
  {
   "cell_type": "markdown",
   "metadata": {},
   "source": [
    "## Data\n",
    "\n",
    "Let's begin by looking at some dummy images with properties we can easily discern by eye."
   ]
  },
  {
   "cell_type": "code",
   "execution_count": 2,
   "metadata": {},
   "outputs": [
    {
     "data": {
      "application/vnd.jupyter.widget-view+json": {
       "model_id": "165bac5deeb34ce5a433081709bec6bf",
       "version_major": 2,
       "version_minor": 0
      },
      "text/plain": [
       "interactive(children=(Dropdown(description='data_name', options=('Horizontal Line', 'Vertical Line', 'Diagonal…"
      ]
     },
     "metadata": {},
     "output_type": "display_data"
    }
   ],
   "source": [
    "@interact(data_name=data_dict.keys())\n",
    "def show_data(data_name):\n",
    "    \n",
    "    print(data_dict[data_name])"
   ]
  },
  {
   "cell_type": "markdown",
   "metadata": {},
   "source": [
    "## Image Flux\n",
    "\n",
    "Now we can look at the flux density or surface brightness per pixel, $I(x, y)$ , and then dermine the total flux of the image, $F$."
   ]
  },
  {
   "cell_type": "code",
   "execution_count": 3,
   "metadata": {},
   "outputs": [
    {
     "data": {
      "application/vnd.jupyter.widget-view+json": {
       "model_id": "15f5b4a24acd41bba5290a42ed9a19ba",
       "version_major": 2,
       "version_minor": 0
      },
      "text/plain": [
       "interactive(children=(Dropdown(description='data_name', options=('Horizontal Line', 'Vertical Line', 'Diagonal…"
      ]
     },
     "metadata": {},
     "output_type": "display_data"
    }
   ],
   "source": [
    "@interact(data_name=data_dict.keys())\n",
    "def show_flux(data_name):\n",
    "    \n",
    "    show_image(data_dict[data_name], show_flux=True)"
   ]
  },
  {
   "cell_type": "markdown",
   "metadata": {},
   "source": [
    "\\begin{equation}\n",
    "    \\large F = \\int I(x,y) dx dy\n",
    "\\end{equation}\n",
    "\n",
    "\n",
    "\\begin{equation}\n",
    "    \\large F = \\sum_{x,y} I(x,y)\n",
    "\\end{equation}"
   ]
  },
  {
   "cell_type": "code",
   "execution_count": 4,
   "metadata": {},
   "outputs": [
    {
     "data": {
      "application/vnd.jupyter.widget-view+json": {
       "model_id": "ed0592b3bd634883918e135b6e33b300",
       "version_major": 2,
       "version_minor": 0
      },
      "text/plain": [
       "interactive(children=(Dropdown(description='data_name', options=('Horizontal Line', 'Vertical Line', 'Diagonal…"
      ]
     },
     "metadata": {},
     "output_type": "display_data"
    }
   ],
   "source": [
    "@interact(data_name=data_dict.keys())\n",
    "def print_total_flux(data_name):\n",
    "    \n",
    "    print('F = {}'.format(np.sum(data_dict[data_name])))"
   ]
  },
  {
   "cell_type": "markdown",
   "metadata": {},
   "source": [
    "## Centroid"
   ]
  },
  {
   "cell_type": "markdown",
   "metadata": {},
   "source": [
    "$$\n",
    "    \\large \\bar{x} = \\frac{\\sum_{x,y} xI(x,y)}{\\sum_{x,y} I(x,y)}\n",
    "$$ (eq:centroid_x)\n",
    "\n",
    "$$\n",
    "    \\large \\bar{y} = \\frac{\\sum_{x,y} yI(x,y)}{\\sum_{x,y} I(x,y)}\n",
    "$$ (eq:centroid_x)\n"
   ]
  },
  {
   "cell_type": "code",
   "execution_count": 5,
   "metadata": {},
   "outputs": [],
   "source": [
    "def get_centroid(data):\n",
    "    \n",
    "    # Sum flux over x and y individually\n",
    "    sum_i = np.array([np.sum(data, axis=i) for i in (1, 0)])\n",
    "    \n",
    "    # Get range of x and y values\n",
    "    ranges = np.array([np.arange(i) for i in data.shape])\n",
    "    \n",
    "    # Calculate centroids\n",
    "    cents = np.sum(sum_i * ranges, axis=1) / np.sum(data)\n",
    "    \n",
    "    return cents.astype(int)"
   ]
  },
  {
   "cell_type": "code",
   "execution_count": 6,
   "metadata": {},
   "outputs": [
    {
     "data": {
      "application/vnd.jupyter.widget-view+json": {
       "model_id": "22ef5fe2625947409c2d44912fbfd89b",
       "version_major": 2,
       "version_minor": 0
      },
      "text/plain": [
       "interactive(children=(Dropdown(description='data_name', options=('Horizontal Line', 'Vertical Line', 'Diagonal…"
      ]
     },
     "metadata": {},
     "output_type": "display_data"
    }
   ],
   "source": [
    "@interact(data_name=data_dict.keys())\n",
    "def show_centroid(data_name):\n",
    "    \n",
    "    data = data_dict[data_name]\n",
    "    centroid = get_centroid(data)\n",
    "    \n",
    "    show_image(data, centroid=centroid)"
   ]
  },
  {
   "cell_type": "markdown",
   "metadata": {},
   "source": [
    "## Moments\n",
    "\n",
    "\\begin{equation}\n",
    "    \\large Q_{xy} = \\frac{\\sum_{x,y} I(x,y)(x - \\bar{x})(y - \\bar{y})}{\\sum_{x,y} I(x,y)}\n",
    "\\end{equation}"
   ]
  },
  {
   "cell_type": "code",
   "execution_count": 7,
   "metadata": {},
   "outputs": [],
   "source": [
    "def get_moments(data):\n",
    "    \n",
    "    centroid = get_centroid(data)\n",
    "    ranges = np.array([np.arange(i) for i in data.shape])\n",
    "    \n",
    "    x = np.outer(ranges[0] - centroid[0], np.ones(data.shape[1]))\n",
    "    y = np.outer(np.ones(data.shape[0]), ranges[1] - centroid[1])\n",
    "    \n",
    "    q = np.array([np.sum(data * xi * xj) for xi in (x, y) for xj in (x, y)])\n",
    "    q = (q / np.sum(data)).reshape(2, 2).astype('complex')\n",
    "    \n",
    "    return q"
   ]
  },
  {
   "cell_type": "code",
   "execution_count": 8,
   "metadata": {},
   "outputs": [
    {
     "data": {
      "application/vnd.jupyter.widget-view+json": {
       "model_id": "57aa3723362d49809c7061866ed909ab",
       "version_major": 2,
       "version_minor": 0
      },
      "text/plain": [
       "interactive(children=(Dropdown(description='data_name', options=('Horizontal Line', 'Vertical Line', 'Diagonal…"
      ]
     },
     "metadata": {},
     "output_type": "display_data"
    }
   ],
   "source": [
    "@interact(data_name=data_dict.keys())\n",
    "def print_moments(data_name):\n",
    "    \n",
    "    print(get_moments(data_dict[data_name]))"
   ]
  },
  {
   "cell_type": "markdown",
   "metadata": {},
   "source": [
    "## Ellipticity\n",
    "\n",
    "\\begin{equation}\n",
    "    \\large \\chi = \\frac{Q_{00}-Q_{11}+2iQ_{01}}{Q_{00}+Q_{11}}\n",
    "\\end{equation}\n",
    "\n",
    "\\begin{equation}\n",
    "    \\large \\epsilon = \\frac{Q_{00}-Q_{11}+2iQ_{01}}{Q_{00}+Q_{11}+2\\sqrt{Q_{00}Q_{11}-Q_{01}^2}}\n",
    "\\end{equation}"
   ]
  },
  {
   "cell_type": "code",
   "execution_count": 9,
   "metadata": {},
   "outputs": [],
   "source": [
    "def get_ellipticity(data, method='chi'):\n",
    "    \n",
    "    # Calculate moments\n",
    "    q = get_moments(data)\n",
    "    \n",
    "    # Calculate the size.\n",
    "    r2 = q[0, 0] + q[1, 1]\n",
    "\n",
    "    # Calculate the numerator\n",
    "    num = (q[0, 0] - q[1, 1] + 2 * np.complex(0, q[0, 1]))\n",
    "    \n",
    "    # Calculate the denominator\n",
    "    den = r2\n",
    "    \n",
    "    if method == 'epsilon':\n",
    "        den += 2 * np.sqrt(q[0, 0] * q[1, 1] - q[0, 1] ** 2)\n",
    "    \n",
    "    # Calculate the ellipticity\n",
    "    ellip = num / den\n",
    "\n",
    "    return np.around([ellip.real, ellip.imag], 3)"
   ]
  },
  {
   "cell_type": "code",
   "execution_count": 10,
   "metadata": {},
   "outputs": [
    {
     "data": {
      "application/vnd.jupyter.widget-view+json": {
       "model_id": "6656d4dfc609470d9a734ab789ef266a",
       "version_major": 2,
       "version_minor": 0
      },
      "text/plain": [
       "interactive(children=(Dropdown(description='data_name', options=('Horizontal Line', 'Vertical Line', 'Diagonal…"
      ]
     },
     "metadata": {},
     "output_type": "display_data"
    }
   ],
   "source": [
    "@interact(data_name=data_dict.keys())\n",
    "def show_centroid(data_name):\n",
    "    \n",
    "    data = data_dict[data_name]\n",
    "    centroid = get_centroid(data)\n",
    "    chi = get_ellipticity(data)\n",
    "    epsilon = get_ellipticity(data, method='epsilon')\n",
    "    \n",
    "    show_image(data, centroid=centroid, chi=chi, epsilon=epsilon)"
   ]
  },
  {
   "cell_type": "markdown",
   "metadata": {},
   "source": [
    "\\begin{equation}\n",
    "    \\large a^2 = \\frac{Q_{00}+Q_{11}+\\sqrt{(Q_{00}-Q_{11})^2 + 4Q_{01}^2}}{2}\n",
    "\\end{equation}\n",
    "\n",
    "\\begin{equation}\n",
    "    \\large b^2 = \\frac{Q_{00}+Q_{11}-\\sqrt{(Q_{00}-Q_{11})^2 + 4Q_{01}^2}}{2}\n",
    "\\end{equation}\n",
    "\n",
    "\\begin{equation}\n",
    "    \\large \\tan{2\\theta} = \\frac{2Q_{01}}{Q_{00}-Q_{11}}\n",
    "\\end{equation}"
   ]
  },
  {
   "cell_type": "code",
   "execution_count": 11,
   "metadata": {},
   "outputs": [],
   "source": [
    "def get_abt(data):\n",
    "    \n",
    "    q = get_moments(data)\n",
    "    \n",
    "    qq_plus = q[0, 0] + q[1, 1]\n",
    "    qq_minus = q[0, 0] - q[1, 1]\n",
    "    root = np.sqrt(qq_minus ** 2 + 4 * q[0, 1] ** 2)\n",
    "    \n",
    "    a = np.around(np.real(np.sqrt(0.5 * (qq_plus + root))), 3)\n",
    "    b = np.around(np.real(np.sqrt(0.5 * (qq_plus - root))), 3)\n",
    "    if qq_minus == 0.0:\n",
    "        theta = -45.0 * np.sign(np.real(q[0, 1]))\n",
    "    else:\n",
    "        theta = np.around(np.real(0.5 * np.arctan(2 * q[0, 1] / qq_minus)) * 180. / np.pi, 3)\n",
    "        \n",
    "    if qq_minus > 0.0 and q[0, 1] == 0.0:\n",
    "        theta += 90.0\n",
    "    elif qq_minus > 0.0:\n",
    "        theta -= 90.0 * np.sign(np.real(q[0, 1]))\n",
    "    \n",
    "    return a, b, theta"
   ]
  },
  {
   "cell_type": "code",
   "execution_count": 12,
   "metadata": {},
   "outputs": [
    {
     "data": {
      "application/vnd.jupyter.widget-view+json": {
       "model_id": "65b34552060b49a1acbb333530aeef9f",
       "version_major": 2,
       "version_minor": 0
      },
      "text/plain": [
       "interactive(children=(IntSlider(value=3, description='a', max=5, min=1), IntSlider(value=3, description='b', m…"
      ]
     },
     "metadata": {},
     "output_type": "display_data"
    }
   ],
   "source": [
    "@interact(a=(1, 5, 1), b=(1, 5, 1), theta=(-90, 90, 15))\n",
    "def show_ellipse(a, b, theta):\n",
    "    \n",
    "    data = make_ellipse(a, b, theta)\n",
    "    centroid = get_centroid(data)\n",
    "    chi = get_ellipticity(data)\n",
    "    epsilon = get_ellipticity(data, method='epsilon')\n",
    "    abt = get_abt(data)\n",
    "    \n",
    "    show_image(data, centroid=centroid, chi=chi, epsilon=epsilon, abt=abt)"
   ]
  },
  {
   "cell_type": "code",
   "execution_count": null,
   "metadata": {},
   "outputs": [],
   "source": []
  }
 ],
 "metadata": {
  "celltoolbar": "Edit Metadata",
  "kernelspec": {
   "display_name": "Python 3",
   "language": "python",
   "name": "python3"
  },
  "language_info": {
   "codemirror_mode": {
    "name": "ipython",
    "version": 3
   },
   "file_extension": ".py",
   "mimetype": "text/x-python",
   "name": "python",
   "nbconvert_exporter": "python",
   "pygments_lexer": "ipython3",
   "version": "3.8.5"
  },
  "toc": {
   "base_numbering": 1,
   "nav_menu": {},
   "number_sections": true,
   "sideBar": true,
   "skip_h1_title": false,
   "title_cell": "Table of Contents",
   "title_sidebar": "Contents",
   "toc_cell": false,
   "toc_position": {},
   "toc_section_display": true,
   "toc_window_display": false
  }
 },
 "nbformat": 4,
 "nbformat_minor": 4
}
